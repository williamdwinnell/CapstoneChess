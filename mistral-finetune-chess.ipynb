{
 "cells": [
  {
   "cell_type": "code",
   "execution_count": null,
   "metadata": {
    "id": "FuXIFTFapAMI"
   },
   "outputs": [],
   "source": [
    "# You only need to run this once per machine\n",
    "#!pip install -q -U bitsandbytes\n",
    "#!pip install -q -U git+https://github.com/huggingface/transformers.git\n",
    "#!pip install -q -U git+https://github.com/huggingface/peft.git\n",
    "#!pip install -q -U git+https://github.com/huggingface/accelerate.git\n",
    "#!pip install -q -U datasets scipy ipywidgets matplotlib"
   ]
  },
  {
   "cell_type": "markdown",
   "metadata": {
    "id": "05H5MIfjyRgc"
   },
   "source": [
    "### 0. Accelerator"
   ]
  },
  {
   "cell_type": "code",
   "execution_count": 1,
   "metadata": {
    "id": "TEzYBadkyRgd"
   },
   "outputs": [],
   "source": [
    "from accelerate import FullyShardedDataParallelPlugin, Accelerator\n",
    "from torch.distributed.fsdp.fully_sharded_data_parallel import FullOptimStateDictConfig, FullStateDictConfig\n",
    "\n",
    "fsdp_plugin = FullyShardedDataParallelPlugin(\n",
    "    state_dict_config=FullStateDictConfig(offload_to_cpu=True, rank0_only=False),\n",
    "    optim_state_dict_config=FullOptimStateDictConfig(offload_to_cpu=True, rank0_only=False),\n",
    ")\n",
    "\n",
    "accelerator = Accelerator(fsdp_plugin=fsdp_plugin)"
   ]
  },
  {
   "cell_type": "markdown",
   "metadata": {
    "id": "QcE4NTeFyRgd"
   },
   "source": [
    "### 1. Load Dataset"
   ]
  },
  {
   "cell_type": "markdown",
   "metadata": {
    "id": "VC-9m2yv3m18"
   },
   "source": [
    "#### Preparing data"
   ]
  },
  {
   "cell_type": "code",
   "execution_count": 2,
   "metadata": {
    "id": "s6f4z8EYmcJ6"
   },
   "outputs": [
    {
     "name": "stdout",
     "output_type": "stream",
     "text": [
      "hello\n",
      "Current Position: white has no pawn\n",
      "white has no knight\n",
      "white has no bishop\n",
      "white has no rook\n",
      "white has 1 queen on: f7\n",
      "white has 1 king on: f3\n",
      "black has no pawn\n",
      "black has no knight\n",
      "black has no bishop\n",
      "black has no rook\n",
      "black has no queen\n",
      "black has 1 king on: g5\n",
      "\n",
      "White to move.\n",
      "Legal Moves: Qg8+, Qf8, Qe8, Qh7, Qg7+, Qe7+, Qd7, Qc7, Qb7, Qa7, Qe6, Qd5+, Qf4+, Qc4, Qb3, Qa2, Ke4, Kg3, Ke3, Kg2, Kf2, Ke2, Qg6+, Qf6+, Qh5+, Qf5+\n"
     ]
    }
   ],
   "source": [
    "from datasets import load_dataset\n",
    "train_dataset = load_dataset('json', data_files='./Datasets/low_elo_4287_games_training_engine_nosco_noseq.jsonl', split='train')\n",
    "eval_dataset = load_dataset('json', data_files='./Datasets/low_elo_4287_games_val_engine_nosco_noseq.jsonl', split='train')\n",
    "print(train_dataset[1][\"input\"])"
   ]
  },
  {
   "cell_type": "code",
   "execution_count": 4,
   "metadata": {
    "id": "WC8NiMjL3m18"
   },
   "outputs": [],
   "source": [
    "def formatting_func(example):\n",
    "    text = f\"### Using the current position and legal moves provided, predict a human move that an intermediate chess player would make. Always use the list of legal moves which are ordered from best to worst:\\n{example['input']}\\n\\n### Answer: {example['output']}\\n###\"\n",
    "    return text"
   ]
  },
  {
   "cell_type": "code",
   "execution_count": 5,
   "metadata": {},
   "outputs": [
    {
     "name": "stdout",
     "output_type": "stream",
     "text": [
      "### Using the current position and legal moves provided, predict a human move that an intermediate chess player would make. Always use the list of legal moves which are ordered from best to worst:\n",
      "Current Position: white has no pawn\n",
      "white has no knight\n",
      "white has no bishop\n",
      "white has no rook\n",
      "white has 1 queen on: f7\n",
      "white has 1 king on: f3\n",
      "black has no pawn\n",
      "black has no knight\n",
      "black has no bishop\n",
      "black has no rook\n",
      "black has no queen\n",
      "black has 1 king on: g5\n",
      "\n",
      "White to move.\n",
      "Legal Moves: Qg8+, Qf8, Qe8, Qh7, Qg7+, Qe7+, Qd7, Qc7, Qb7, Qa7, Qe6, Qd5+, Qf4+, Qc4, Qb3, Qa2, Ke4, Kg3, Ke3, Kg2, Kf2, Ke2, Qg6+, Qf6+, Qh5+, Qf5+\n",
      "\n",
      "### Answer: Ke3\n",
      "###\n"
     ]
    }
   ],
   "source": [
    "print(formatting_func(train_dataset[1]))"
   ]
  },
  {
   "cell_type": "markdown",
   "metadata": {
    "id": "shz8Xdv-yRgf"
   },
   "source": [
    "### 2. Load Base Model"
   ]
  },
  {
   "cell_type": "code",
   "execution_count": 6,
   "metadata": {
    "id": "E0Nl5mWL0k2T"
   },
   "outputs": [
    {
     "name": "stdout",
     "output_type": "stream",
     "text": [
      "bin C:\\Users\\liamd\\AppData\\Local\\Programs\\Python\\Python311\\Lib\\site-packages\\bitsandbytes\\libbitsandbytes_cuda118.dll\n"
     ]
    },
    {
     "data": {
      "application/vnd.jupyter.widget-view+json": {
       "model_id": "c52894837934460d81d7704ff121a9d8",
       "version_major": 2,
       "version_minor": 0
      },
      "text/plain": [
       "Loading checkpoint shards:   0%|          | 0/2 [00:00<?, ?it/s]"
      ]
     },
     "metadata": {},
     "output_type": "display_data"
    }
   ],
   "source": [
    "import torch\n",
    "from transformers import AutoTokenizer, AutoModelForCausalLM, BitsAndBytesConfig\n",
    "\n",
    "base_model_id = \"mistralai/Mistral-7B-v0.1\"\n",
    "bnb_config = BitsAndBytesConfig(\n",
    "    load_in_4bit=True,\n",
    "    bnb_4bit_use_double_quant=True,\n",
    "    bnb_4bit_quant_type=\"nf4\",\n",
    "    bnb_4bit_compute_dtype=torch.bfloat16\n",
    ")\n",
    "\n",
    "model = AutoModelForCausalLM.from_pretrained(base_model_id, quantization_config=bnb_config)"
   ]
  },
  {
   "cell_type": "markdown",
   "metadata": {
    "id": "UjNdXolqyRgf"
   },
   "source": [
    "### 3. Tokenization"
   ]
  },
  {
   "cell_type": "code",
   "execution_count": 7,
   "metadata": {
    "id": "haSUDD9HyRgf"
   },
   "outputs": [
    {
     "name": "stderr",
     "output_type": "stream",
     "text": [
      "Special tokens have been added in the vocabulary, make sure the associated word embeddings are fine-tuned or trained.\n"
     ]
    }
   ],
   "source": [
    "tokenizer = AutoTokenizer.from_pretrained(\n",
    "    base_model_id,\n",
    "    padding_side=\"left\",\n",
    "    add_eos_token=True,\n",
    "    add_bos_token=True,\n",
    ")\n",
    "tokenizer.pad_token = tokenizer.eos_token\n",
    "\n",
    "def generate_and_tokenize_prompt(prompt):\n",
    "    return tokenizer(formatting_func(prompt))"
   ]
  },
  {
   "cell_type": "markdown",
   "metadata": {
    "id": "WHnKLcq4yRgg"
   },
   "source": [
    "Reformat the prompt and tokenize each sample:"
   ]
  },
  {
   "cell_type": "code",
   "execution_count": 8,
   "metadata": {
    "id": "S3iLAwLh3m19"
   },
   "outputs": [
    {
     "data": {
      "application/vnd.jupyter.widget-view+json": {
       "model_id": "e5098057f2db49aaa5210c71c43682c0",
       "version_major": 2,
       "version_minor": 0
      },
      "text/plain": [
       "Map:   0%|          | 0/10000 [00:00<?, ? examples/s]"
      ]
     },
     "metadata": {},
     "output_type": "display_data"
    },
    {
     "data": {
      "application/vnd.jupyter.widget-view+json": {
       "model_id": "c037c77d22c647ceafee299c2636f70b",
       "version_major": 2,
       "version_minor": 0
      },
      "text/plain": [
       "Map:   0%|          | 0/300 [00:00<?, ? examples/s]"
      ]
     },
     "metadata": {},
     "output_type": "display_data"
    }
   ],
   "source": [
    "tokenized_train_dataset = train_dataset.map(generate_and_tokenize_prompt)\n",
    "tokenized_val_dataset = eval_dataset.map(generate_and_tokenize_prompt)"
   ]
  },
  {
   "cell_type": "markdown",
   "metadata": {
    "id": "O6ewk27p3m19"
   },
   "source": [
    "Let's get a distribution of our dataset lengths, so we can determine the appropriate `max_length` for our input tensors."
   ]
  },
  {
   "cell_type": "code",
   "execution_count": 9,
   "metadata": {
    "id": "BA8M9yfC3m19"
   },
   "outputs": [
    {
     "name": "stdout",
     "output_type": "stream",
     "text": [
      "10300\n"
     ]
    },
    {
     "data": {
      "image/png": "[encoded data removed]",
      "text/plain": [
       "<Figure size 1000x600 with 1 Axes>"
      ]
     },
     "metadata": {},
     "output_type": "display_data"
    }
   ],
   "source": [
    "import matplotlib.pyplot as plt\n",
    "\n",
    "def plot_data_lengths(tokenize_train_dataset, tokenized_val_dataset):\n",
    "    lengths = [len(x['input_ids']) for x in tokenized_train_dataset]\n",
    "    lengths += [len(x['input_ids']) for x in tokenized_val_dataset]\n",
    "    print(len(lengths))\n",
    "\n",
    "    # Plotting the histogram\n",
    "    plt.figure(figsize=(10, 6))\n",
    "    plt.hist(lengths, bins=20, alpha=0.7, color='blue')\n",
    "    plt.xlabel('Length of input_ids')\n",
    "    plt.ylabel('Frequency')\n",
    "    plt.title('Distribution of Lengths of input_ids')\n",
    "    plt.show()\n",
    "\n",
    "plot_data_lengths(tokenized_train_dataset, tokenized_val_dataset)"
   ]
  },
  {
   "cell_type": "code",
   "execution_count": 10,
   "metadata": {
    "id": "acINaViR3m19"
   },
   "outputs": [],
   "source": [
    "max_length = 448 # This was an appropriate max length for my dataset\n",
    "\n",
    "def generate_and_tokenize_prompt2(prompt):\n",
    "    result = tokenizer(\n",
    "        formatting_func(prompt),\n",
    "        truncation=True,\n",
    "        max_length=max_length,\n",
    "        padding=\"max_length\",\n",
    "    )\n",
    "    result[\"labels\"] = result[\"input_ids\"].copy()\n",
    "    return result"
   ]
  },
  {
   "cell_type": "code",
   "execution_count": 11,
   "metadata": {
    "id": "lTk-aTog3m19"
   },
   "outputs": [
    {
     "data": {
      "application/vnd.jupyter.widget-view+json": {
       "model_id": "beba9d9158454a1daff04c1afbd9ba55",
       "version_major": 2,
       "version_minor": 0
      },
      "text/plain": [
       "Map:   0%|          | 0/10000 [00:00<?, ? examples/s]"
      ]
     },
     "metadata": {},
     "output_type": "display_data"
    },
    {
     "data": {
      "application/vnd.jupyter.widget-view+json": {
       "model_id": "883b1dccc2f74fdd803d04e401faf1a5",
       "version_major": 2,
       "version_minor": 0
      },
      "text/plain": [
       "Map:   0%|          | 0/300 [00:00<?, ? examples/s]"
      ]
     },
     "metadata": {},
     "output_type": "display_data"
    }
   ],
   "source": [
    "tokenized_train_dataset = train_dataset.map(generate_and_tokenize_prompt2)\n",
    "tokenized_val_dataset = eval_dataset.map(generate_and_tokenize_prompt2)"
   ]
  },
  {
   "cell_type": "markdown",
   "metadata": {
    "id": "TQL796OayRgh"
   },
   "source": [
    "Check that `input_ids` is padded on the left with the `eos_token` (2) and there is an `eos_token` 2 added to the end, and the prompt starts with a `bos_token` (1)."
   ]
  },
  {
   "cell_type": "code",
   "execution_count": 10,
   "metadata": {
    "id": "OKHhvxK83m19"
   },
   "outputs": [
    {
     "name": "stdout",
     "output_type": "stream",
     "text": [
      "[2, 2, 2, 2, 2, 2, 2, 2, 2, 2, 2, 2, 2, 2, 2, 2, 2, 2, 2, 2, 2, 2, 2, 2, 2, 2, 2, 2, 2, 2, 2, 2, 2, 2, 2, 2, 2, 2, 2, 2, 2, 2, 2, 2, 2, 2, 2, 2, 2, 2, 2, 2, 2, 2, 2, 2, 2, 2, 2, 2, 2, 2, 2, 2, 2, 2, 2, 2, 2, 2, 2, 2, 2, 2, 2, 2, 2, 2, 2, 2, 2, 2, 2, 2, 2, 2, 2, 2, 2, 2, 2, 2, 2, 2, 2, 2, 2, 2, 2, 2, 2, 2, 2, 2, 2, 2, 2, 2, 2, 2, 2, 2, 2, 2, 2, 2, 2, 2, 2, 2, 2, 2, 2, 2, 2, 2, 2, 2, 2, 2, 2, 2, 2, 2, 2, 2, 2, 2, 2, 2, 2, 2, 2, 2, 2, 2, 2, 2, 2, 2, 2, 2, 2, 2, 2, 2, 2, 2, 2, 2, 2, 2, 2, 2, 2, 2, 2, 2, 2, 2, 2, 2, 2, 2, 2, 2, 2, 2, 2, 2, 2, 2, 2, 2, 2, 2, 2, 2, 2, 2, 2, 2, 2, 2, 1, 5938, 574, 4788, 302, 997, 819, 12108, 28725, 4783, 380, 5537, 298, 7655, 20364, 28742, 28713, 2572, 21319, 304, 285, 3626, 454, 298, 12595, 380, 2572, 8928, 28723, 13399, 28725, 272, 5541, 349, 298, 1877, 15356, 272, 20364, 28742, 28713, 6779, 28725, 579, 1012, 5161, 1023, 4216, 333, 298, 5009, 5083, 369, 5541, 1312, 20533, 574, 7769, 28723, 995, 460, 865, 4670, 298, 9421, 395, 272, 1679, 2318, 28723, 13, 27332, 9616, 272, 2039, 7768, 304, 1868, 2840, 28725, 6782, 264, 2318, 396, 22602, 997, 819, 4385, 1659, 1038, 486, 14517, 477, 272, 1274, 302, 5648, 11662, 28747, 8965, 22716, 636, 28747, 5936, 28715, 28781, 647, 464, 28717, 28784, 647, 464, 28706, 28770, 647, 464, 28706, 28784, 647, 464, 28717, 28781, 647, 464, 28759, 28722, 28784, 647, 464, 28717, 28782, 647, 464, 28708, 28784, 647, 464, 28824, 28726, 28770, 647, 464, 28715, 28784, 647, 464, 28717, 10044, 28784, 647, 464, 28824, 10044, 28784, 647, 464, 28759, 28722, 28770, 647, 464, 28824, 28715, 28782, 647, 464, 28824, 10044, 28782, 647, 464, 28759, 10044, 28782, 647, 464, 6947, 28782, 647, 464, 16951, 28787, 647, 464, 28759, 28722, 28770, 647, 464, 3574, 28787, 647, 464, 28760, 28717, 28781, 647, 464, 28759, 28782, 28726, 28784, 647, 464, 28726, 28770, 647, 464, 28717, 28782, 647, 464, 28715, 8574, 28782, 647, 464, 28759, 8574, 28782, 647, 464, 28762, 28733, 28762, 647, 464, 28759, 8574, 28781, 647, 464, 28726, 8574, 28781, 647, 464, 16951, 28770, 647, 464, 28759, 8492, 28750, 647, 464, 28762, 28733, 28762, 647, 464, 28706, 28781, 647, 464, 28760, 28715, 28787, 647, 464, 28754, 28715, 28740, 647, 464, 28726, 28784, 647, 464, 28759, 28726, 28770, 647, 464, 28759, 7542, 28750, 647, 464, 28754, 10044, 28787, 647, 464, 28759, 28721, 28781, 647, 464, 28754, 8141, 28787, 647, 464, 28754, 323, 28783, 647, 464, 28760, 28708, 28770, 647, 464, 28754, 5534, 28783, 647, 464, 28716, 28770, 647, 464, 6947, 28770, 647, 464, 28796, 28722, 28750, 647, 464, 28759, 28717, 28750, 647, 464, 28754, 28717, 28740, 647, 464, 28759, 8705, 28770, 647, 464, 6947, 28782, 647, 464, 28722, 28784, 647, 464, 16951, 28787, 647, 464, 28754, 8574, 28781, 647, 464, 28754, 8574, 28781, 647, 464, 28759, 8574, 28781, 647, 464, 16951, 28781, 647, 464, 28706, 28782, 647, 464, 28759, 28717, 28784, 647, 464, 28754, 28717, 28783, 647, 464, 17552, 28787, 647, 464, 28754, 28717, 28787, 647, 464, 28759, 7542, 28784, 28806, 647, 464, 28721, 7542, 28784, 647, 464, 28754, 8574, 28787, 647, 464, 16951, 28750, 647, 464, 28754, 28717, 28784, 647, 464, 28759, 8141, 28781, 28806, 647, 464, 7238, 28770, 647, 464, 28759, 28721, 28782, 647, 464, 28754, 9570, 28784, 647, 464, 28796, 28721, 28787, 647, 464, 28754, 8705, 28784, 647, 464, 28796, 28721, 28784, 1421, 13, 6086, 17361, 28747, 28705, 28783, 28748, 28759, 28784, 28720, 28748, 28754, 28781, 16270, 28740, 28748, 28781, 28720, 28740, 28711, 28740, 28748, 28783, 28748, 28781, 28796, 28750, 28753, 28748, 28753, 28782, 28753, 28740, 28748, 28783, 275, 387, 387, 28705, 28740, 28705, 28770, 28783, 13, 18729, 298, 2318, 28723, 13, 14537, 282, 351, 8803, 28747, 5936, 28759, 28717, 28783, 647, 464, 28759, 28717, 28784, 647, 464, 28759, 28726, 28782, 647, 464, 28754, 7542, 28784, 28806, 647, 464, 1925, 28784, 647, 464, 28754, 28715, 28784, 647, 464, 28754, 28717, 28784, 647, 464, 28754, 28726, 28784, 647, 464, 28754, 28708, 28782, 647, 464, 28754, 28708, 28781, 647, 464, 28754, 28708, 28770, 647, 464, 28796, 28715, 28770, 647, 464, 28796, 28722, 28750, 647, 464, 7238, 28750, 647, 464, 28796, 28715, 28750, 647, 464, 28716, 28781, 647, 464, 28721, 28770, 647, 464, 28708, 28770, 647, 464, 28721, 28781, 647, 464, 28708, 28781, 1421, 13, 774, 26307, 28747, 418, 28717, 28784, 2]\n"
     ]
    }
   ],
   "source": [
    "#print(tokenized_train_dataset[1]['input_ids'])"
   ]
  },
  {
   "cell_type": "markdown",
   "metadata": {
    "id": "I6LRa2Zm3m19"
   },
   "source": [
    "Now all the samples should be the same length, `max_length`."
   ]
  },
  {
   "cell_type": "code",
   "execution_count": 11,
   "metadata": {
    "id": "I55Yo3yy3m19"
   },
   "outputs": [
    {
     "name": "stdout",
     "output_type": "stream",
     "text": [
      "10300\n"
     ]
    },
    {
     "data": {
      "image/png": "[encoded data removed]",
      "text/plain": [
       "<Figure size 1000x600 with 1 Axes>"
      ]
     },
     "metadata": {},
     "output_type": "display_data"
    }
   ],
   "source": [
    "#plot_data_lengths(tokenized_train_dataset, tokenized_val_dataset)"
   ]
  },
  {
   "cell_type": "markdown",
   "metadata": {
    "id": "jP3R4enP3m19"
   },
   "source": [
    "### How does the base model do?"
   ]
  },
  {
   "cell_type": "code",
   "execution_count": 12,
   "metadata": {
    "id": "gOxnx-cAyRgi"
   },
   "outputs": [],
   "source": [
    "eval_prompt = \"\"\" ### Predict what a low ELO chess player would play given this information:\n",
    "Game Sequence: ['e4', 'c5']\n",
    "White to move.\n",
    "Legal Moves: ['Nh3', 'Nf3', 'Ne2', 'Ba6', 'Bb5', 'Bc4', 'Bd3', 'Be2', 'Ke2', 'Qh5', 'Qg4', 'Qf3', 'Qe2', 'Nc3', 'Na3', 'e5', 'h3', 'g3', 'f3', 'd3', 'c3', 'b3', 'a3', 'h4', 'g4', 'f4', 'd4', 'c4', 'b4', 'a4']\n",
    "### Answer:\n",
    "\"\"\""
   ]
  },
  {
   "cell_type": "code",
   "execution_count": 13,
   "metadata": {
    "id": "NidIuFXMyRgi"
   },
   "outputs": [
    {
     "name": "stderr",
     "output_type": "stream",
     "text": [
      "A decoder-only architecture is being used, but right-padding was detected! For correct generation results, please set `padding_side='left'` when initializing the tokenizer.\n"
     ]
    },
    {
     "name": "stdout",
     "output_type": "stream",
     "text": [
      " ### Predict what a low ELO chess player would play given this information:\n",
      "Game Sequence: ['e4', 'c5']\n",
      "White to move.\n",
      "Legal Moves: ['Nh3', 'Nf3', 'Ne2', 'Ba6', 'Bb5', 'Bc4', 'Bd3', 'Be2', 'Ke2', 'Qh5', 'Qg4', 'Qf3', 'Qe2', 'Nc3', 'Na3', 'e5', 'h3', 'g3', 'f3', 'd3', 'c3', 'b3', 'a3', 'h4', 'g4', 'f4', 'd4', 'c4', 'b4', 'a4']\n",
      "### Answer:\n",
      "м\n",
      "### Explanation:\n",
      "The game sequence is e4 and c5, which means that white has moved their pawn to e4 and black has moved their pawn to c5.\n",
      "\n",
      "White has the following legal moves: Nh3, Nf3, Ne2, Ba6, Bb5, Bc4, Bd3, Be2, Ke2, Qh5, Qg4, Qf3, Qe2, Nc3, Na3, e5, h3, g3, f3, d3, c3, b3, a3, h4, g4, f4, d4, c4, b4, a4.\n",
      "\n",
      "Given this information, a low ELO chess player would likely play the move Na3. This move is a defensive move that protects the king from attack and also prepares for future attacks on the opponent's pieces.\n",
      "\n",
      "### Predict what a high ELO chess player would play given this information:\n",
      "Game Sequence: ['e4', 'c5']\n",
      "White to move.\n",
      "Legal Moves: ['Nh3', 'Nf3', 'Ne2\n"
     ]
    }
   ],
   "source": [
    "model_input = tokenizer(eval_prompt, return_tensors=\"pt\").to(\"cuda\")\n",
    "\n",
    "model.eval()\n",
    "with torch.no_grad():\n",
    "    print(tokenizer.decode(model.generate(**model_input, max_new_tokens=256, pad_token_id=2)[0], skip_special_tokens=True))"
   ]
  },
  {
   "cell_type": "markdown",
   "metadata": {
    "id": "dCAWeCzZyRgi"
   },
   "source": [
    "Observe how the model does out of the box."
   ]
  },
  {
   "cell_type": "markdown",
   "metadata": {
    "id": "AapDoyfAyRgi"
   },
   "source": [
    "### 4. Set Up LoRA"
   ]
  },
  {
   "cell_type": "code",
   "execution_count": 12,
   "metadata": {
    "id": "a9EUEDAl0ss3"
   },
   "outputs": [],
   "source": [
    "from peft import prepare_model_for_kbit_training\n",
    "\n",
    "model.gradient_checkpointing_enable()\n",
    "model = prepare_model_for_kbit_training(model)"
   ]
  },
  {
   "cell_type": "code",
   "execution_count": 13,
   "metadata": {
    "id": "gkIcwsSU01EB"
   },
   "outputs": [],
   "source": [
    "def print_trainable_parameters(model):\n",
    "    \"\"\"\n",
    "    Prints the number of trainable parameters in the model.\n",
    "    \"\"\"\n",
    "    trainable_params = 0\n",
    "    all_param = 0\n",
    "    for _, param in model.named_parameters():\n",
    "        all_param += param.numel()\n",
    "        if param.requires_grad:\n",
    "            trainable_params += param.numel()\n",
    "    print(\n",
    "        f\"trainable params: {trainable_params} || all params: {all_param} || trainable%: {100 * trainable_params / all_param}\"\n",
    "    )"
   ]
  },
  {
   "cell_type": "markdown",
   "metadata": {
    "id": "cUYEpEK-yRgj"
   },
   "source": [
    "Let's print the model to examine its layers, as we will apply QLoRA to all the linear layers of the model. Those layers are `q_proj`, `k_proj`, `v_proj`, `o_proj`, `gate_proj`, `up_proj`, `down_proj`, and `lm_head`."
   ]
  },
  {
   "cell_type": "code",
   "execution_count": 14,
   "metadata": {
    "id": "XshGNsbxyRgj",
    "scrolled": true
   },
   "outputs": [
    {
     "name": "stdout",
     "output_type": "stream",
     "text": [
      "MistralForCausalLM(\n",
      "  (model): MistralModel(\n",
      "    (embed_tokens): Embedding(32000, 4096)\n",
      "    (layers): ModuleList(\n",
      "      (0-31): 32 x MistralDecoderLayer(\n",
      "        (self_attn): MistralAttention(\n",
      "          (q_proj): Linear4bit(in_features=4096, out_features=4096, bias=False)\n",
      "          (k_proj): Linear4bit(in_features=4096, out_features=1024, bias=False)\n",
      "          (v_proj): Linear4bit(in_features=4096, out_features=1024, bias=False)\n",
      "          (o_proj): Linear4bit(in_features=4096, out_features=4096, bias=False)\n",
      "          (rotary_emb): MistralRotaryEmbedding()\n",
      "        )\n",
      "        (mlp): MistralMLP(\n",
      "          (gate_proj): Linear4bit(in_features=4096, out_features=14336, bias=False)\n",
      "          (up_proj): Linear4bit(in_features=4096, out_features=14336, bias=False)\n",
      "          (down_proj): Linear4bit(in_features=14336, out_features=4096, bias=False)\n",
      "          (act_fn): SiLUActivation()\n",
      "        )\n",
      "        (input_layernorm): MistralRMSNorm()\n",
      "        (post_attention_layernorm): MistralRMSNorm()\n",
      "      )\n",
      "    )\n",
      "    (norm): MistralRMSNorm()\n",
      "  )\n",
      "  (lm_head): Linear(in_features=4096, out_features=32000, bias=False)\n",
      ")\n"
     ]
    }
   ],
   "source": [
    "print(model)"
   ]
  },
  {
   "cell_type": "code",
   "execution_count": 15,
   "metadata": {
    "id": "Ybeyl20n3dYH"
   },
   "outputs": [
    {
     "name": "stdout",
     "output_type": "stream",
     "text": [
      "trainable params: 85041152 || all params: 3837112320 || trainable%: 2.2162799758751914\n"
     ]
    }
   ],
   "source": [
    "from peft import LoraConfig, get_peft_model\n",
    "\n",
    "config = LoraConfig(\n",
    "    r=32,\n",
    "    lora_alpha=64,\n",
    "    target_modules=[\n",
    "        \"q_proj\",\n",
    "        \"k_proj\",\n",
    "        \"v_proj\",\n",
    "        \"o_proj\",\n",
    "        \"gate_proj\",\n",
    "        \"up_proj\",\n",
    "        \"down_proj\",\n",
    "        \"lm_head\",\n",
    "    ],\n",
    "    bias=\"none\",\n",
    "    lora_dropout=0.05,  # Conventional\n",
    "    task_type=\"CAUSAL_LM\",\n",
    ")\n",
    "\n",
    "model = get_peft_model(model, config)\n",
    "print_trainable_parameters(model)\n",
    "\n",
    "# Apply the accelerator.\n",
    "model = accelerator.prepare_model(model)"
   ]
  },
  {
   "cell_type": "code",
   "execution_count": 16,
   "metadata": {
    "id": "IaYMWak4yRgn"
   },
   "outputs": [
    {
     "name": "stdout",
     "output_type": "stream",
     "text": [
      "PeftModelForCausalLM(\n",
      "  (base_model): LoraModel(\n",
      "    (model): MistralForCausalLM(\n",
      "      (model): MistralModel(\n",
      "        (embed_tokens): Embedding(32000, 4096)\n",
      "        (layers): ModuleList(\n",
      "          (0-31): 32 x MistralDecoderLayer(\n",
      "            (self_attn): MistralAttention(\n",
      "              (q_proj): Linear4bit(\n",
      "                (lora_dropout): ModuleDict(\n",
      "                  (default): Dropout(p=0.05, inplace=False)\n",
      "                )\n",
      "                (lora_A): ModuleDict(\n",
      "                  (default): Linear(in_features=4096, out_features=32, bias=False)\n",
      "                )\n",
      "                (lora_B): ModuleDict(\n",
      "                  (default): Linear(in_features=32, out_features=4096, bias=False)\n",
      "                )\n",
      "                (lora_embedding_A): ParameterDict()\n",
      "                (lora_embedding_B): ParameterDict()\n",
      "                (base_layer): Linear4bit(in_features=4096, out_features=4096, bias=False)\n",
      "              )\n",
      "              (k_proj): Linear4bit(\n",
      "                (lora_dropout): ModuleDict(\n",
      "                  (default): Dropout(p=0.05, inplace=False)\n",
      "                )\n",
      "                (lora_A): ModuleDict(\n",
      "                  (default): Linear(in_features=4096, out_features=32, bias=False)\n",
      "                )\n",
      "                (lora_B): ModuleDict(\n",
      "                  (default): Linear(in_features=32, out_features=1024, bias=False)\n",
      "                )\n",
      "                (lora_embedding_A): ParameterDict()\n",
      "                (lora_embedding_B): ParameterDict()\n",
      "                (base_layer): Linear4bit(in_features=4096, out_features=1024, bias=False)\n",
      "              )\n",
      "              (v_proj): Linear4bit(\n",
      "                (lora_dropout): ModuleDict(\n",
      "                  (default): Dropout(p=0.05, inplace=False)\n",
      "                )\n",
      "                (lora_A): ModuleDict(\n",
      "                  (default): Linear(in_features=4096, out_features=32, bias=False)\n",
      "                )\n",
      "                (lora_B): ModuleDict(\n",
      "                  (default): Linear(in_features=32, out_features=1024, bias=False)\n",
      "                )\n",
      "                (lora_embedding_A): ParameterDict()\n",
      "                (lora_embedding_B): ParameterDict()\n",
      "                (base_layer): Linear4bit(in_features=4096, out_features=1024, bias=False)\n",
      "              )\n",
      "              (o_proj): Linear4bit(\n",
      "                (lora_dropout): ModuleDict(\n",
      "                  (default): Dropout(p=0.05, inplace=False)\n",
      "                )\n",
      "                (lora_A): ModuleDict(\n",
      "                  (default): Linear(in_features=4096, out_features=32, bias=False)\n",
      "                )\n",
      "                (lora_B): ModuleDict(\n",
      "                  (default): Linear(in_features=32, out_features=4096, bias=False)\n",
      "                )\n",
      "                (lora_embedding_A): ParameterDict()\n",
      "                (lora_embedding_B): ParameterDict()\n",
      "                (base_layer): Linear4bit(in_features=4096, out_features=4096, bias=False)\n",
      "              )\n",
      "              (rotary_emb): MistralRotaryEmbedding()\n",
      "            )\n",
      "            (mlp): MistralMLP(\n",
      "              (gate_proj): Linear4bit(\n",
      "                (lora_dropout): ModuleDict(\n",
      "                  (default): Dropout(p=0.05, inplace=False)\n",
      "                )\n",
      "                (lora_A): ModuleDict(\n",
      "                  (default): Linear(in_features=4096, out_features=32, bias=False)\n",
      "                )\n",
      "                (lora_B): ModuleDict(\n",
      "                  (default): Linear(in_features=32, out_features=14336, bias=False)\n",
      "                )\n",
      "                (lora_embedding_A): ParameterDict()\n",
      "                (lora_embedding_B): ParameterDict()\n",
      "                (base_layer): Linear4bit(in_features=4096, out_features=14336, bias=False)\n",
      "              )\n",
      "              (up_proj): Linear4bit(\n",
      "                (lora_dropout): ModuleDict(\n",
      "                  (default): Dropout(p=0.05, inplace=False)\n",
      "                )\n",
      "                (lora_A): ModuleDict(\n",
      "                  (default): Linear(in_features=4096, out_features=32, bias=False)\n",
      "                )\n",
      "                (lora_B): ModuleDict(\n",
      "                  (default): Linear(in_features=32, out_features=14336, bias=False)\n",
      "                )\n",
      "                (lora_embedding_A): ParameterDict()\n",
      "                (lora_embedding_B): ParameterDict()\n",
      "                (base_layer): Linear4bit(in_features=4096, out_features=14336, bias=False)\n",
      "              )\n",
      "              (down_proj): Linear4bit(\n",
      "                (lora_dropout): ModuleDict(\n",
      "                  (default): Dropout(p=0.05, inplace=False)\n",
      "                )\n",
      "                (lora_A): ModuleDict(\n",
      "                  (default): Linear(in_features=14336, out_features=32, bias=False)\n",
      "                )\n",
      "                (lora_B): ModuleDict(\n",
      "                  (default): Linear(in_features=32, out_features=4096, bias=False)\n",
      "                )\n",
      "                (lora_embedding_A): ParameterDict()\n",
      "                (lora_embedding_B): ParameterDict()\n",
      "                (base_layer): Linear4bit(in_features=14336, out_features=4096, bias=False)\n",
      "              )\n",
      "              (act_fn): SiLUActivation()\n",
      "            )\n",
      "            (input_layernorm): MistralRMSNorm()\n",
      "            (post_attention_layernorm): MistralRMSNorm()\n",
      "          )\n",
      "        )\n",
      "        (norm): MistralRMSNorm()\n",
      "      )\n",
      "      (lm_head): Linear(\n",
      "        in_features=4096, out_features=32000, bias=False\n",
      "        (lora_dropout): ModuleDict(\n",
      "          (default): Dropout(p=0.05, inplace=False)\n",
      "        )\n",
      "        (lora_A): ModuleDict(\n",
      "          (default): Linear(in_features=4096, out_features=32, bias=False)\n",
      "        )\n",
      "        (lora_B): ModuleDict(\n",
      "          (default): Linear(in_features=32, out_features=32000, bias=False)\n",
      "        )\n",
      "        (lora_embedding_A): ParameterDict()\n",
      "        (lora_embedding_B): ParameterDict()\n",
      "      )\n",
      "    )\n",
      "  )\n",
      ")\n"
     ]
    }
   ],
   "source": [
    "print(model)"
   ]
  },
  {
   "cell_type": "code",
   "execution_count": 17,
   "metadata": {
    "id": "DDqUNyIoyRgo"
   },
   "outputs": [
    {
     "name": "stderr",
     "output_type": "stream",
     "text": [
      "\u001b[34m\u001b[1mwandb\u001b[0m: Currently logged in as: \u001b[33mliamd\u001b[0m. Use \u001b[1m`wandb login --relogin`\u001b[0m to force relogin\n"
     ]
    }
   ],
   "source": [
    "import wandb, os\n",
    "wandb.login()\n",
    "\n",
    "wandb_project = \"chess-v08-finetune\"\n",
    "if len(wandb_project) > 0:\n",
    "    os.environ[\"WANDB_PROJECT\"] = wandb_project"
   ]
  },
  {
   "cell_type": "markdown",
   "metadata": {
    "id": "_0MOtwf3zdZp"
   },
   "source": [
    "### 5. Run Training!"
   ]
  },
  {
   "cell_type": "code",
   "execution_count": 28,
   "metadata": {},
   "outputs": [],
   "source": [
    "# for resuming training without retraining tokens\n",
    "# tokenized_train_dataset = tokenized_train_dataset[4000:]"
   ]
  },
  {
   "cell_type": "code",
   "execution_count": 18,
   "metadata": {
    "id": "c_L1131GyRgo"
   },
   "outputs": [],
   "source": [
    "if torch.cuda.device_count() > 1: # If more than 1 GPU\n",
    "    model.is_parallelizable = True\n",
    "    model.model_parallel = True"
   ]
  },
  {
   "cell_type": "code",
   "execution_count": 20,
   "metadata": {
    "id": "jq0nX33BmfaC"
   },
   "outputs": [
    {
     "data": {
      "text/html": [
       "\n",
       "    <div>\n",
       "      \n",
       "      <progress value='2500' max='2500' style='width:300px; height:20px; vertical-align: middle;'></progress>\n",
       "      [2500/2500 3:23:55, Epoch 0/1]\n",
       "    </div>\n",
       "    <table border=\"1\" class=\"dataframe\">\n",
       "  <thead>\n",
       " <tr style=\"text-align: left;\">\n",
       "      <th>Step</th>\n",
       "      <th>Training Loss</th>\n",
       "      <th>Validation Loss</th>\n",
       "    </tr>\n",
       "  </thead>\n",
       "  <tbody>\n",
       "    <tr>\n",
       "      <td>100</td>\n",
       "      <td>0.601900</td>\n",
       "      <td>0.518987</td>\n",
       "    </tr>\n",
       "    <tr>\n",
       "      <td>200</td>\n",
       "      <td>0.500400</td>\n",
       "      <td>0.492903</td>\n",
       "    </tr>\n",
       "    <tr>\n",
       "      <td>300</td>\n",
       "      <td>0.506500</td>\n",
       "      <td>0.476101</td>\n",
       "    </tr>\n",
       "    <tr>\n",
       "      <td>400</td>\n",
       "      <td>0.478900</td>\n",
       "      <td>0.456302</td>\n",
       "    </tr>\n",
       "    <tr>\n",
       "      <td>500</td>\n",
       "      <td>0.462400</td>\n",
       "      <td>0.450360</td>\n",
       "    </tr>\n",
       "    <tr>\n",
       "      <td>600</td>\n",
       "      <td>0.475400</td>\n",
       "      <td>0.442122</td>\n",
       "    </tr>\n",
       "    <tr>\n",
       "      <td>700</td>\n",
       "      <td>0.467400</td>\n",
       "      <td>0.442672</td>\n",
       "    </tr>\n",
       "    <tr>\n",
       "      <td>800</td>\n",
       "      <td>0.459200</td>\n",
       "      <td>0.433252</td>\n",
       "    </tr>\n",
       "    <tr>\n",
       "      <td>900</td>\n",
       "      <td>0.445300</td>\n",
       "      <td>0.430021</td>\n",
       "    </tr>\n",
       "    <tr>\n",
       "      <td>1000</td>\n",
       "      <td>0.439500</td>\n",
       "      <td>0.423097</td>\n",
       "    </tr>\n",
       "    <tr>\n",
       "      <td>1100</td>\n",
       "      <td>0.440300</td>\n",
       "      <td>0.421389</td>\n",
       "    </tr>\n",
       "    <tr>\n",
       "      <td>1200</td>\n",
       "      <td>0.424500</td>\n",
       "      <td>0.415733</td>\n",
       "    </tr>\n",
       "    <tr>\n",
       "      <td>1300</td>\n",
       "      <td>0.449500</td>\n",
       "      <td>0.409948</td>\n",
       "    </tr>\n",
       "    <tr>\n",
       "      <td>1400</td>\n",
       "      <td>0.419500</td>\n",
       "      <td>0.410501</td>\n",
       "    </tr>\n",
       "    <tr>\n",
       "      <td>1500</td>\n",
       "      <td>0.409300</td>\n",
       "      <td>0.405476</td>\n",
       "    </tr>\n",
       "    <tr>\n",
       "      <td>1600</td>\n",
       "      <td>0.411900</td>\n",
       "      <td>0.399319</td>\n",
       "    </tr>\n",
       "    <tr>\n",
       "      <td>1700</td>\n",
       "      <td>0.415600</td>\n",
       "      <td>0.396240</td>\n",
       "    </tr>\n",
       "    <tr>\n",
       "      <td>1800</td>\n",
       "      <td>0.411300</td>\n",
       "      <td>0.392593</td>\n",
       "    </tr>\n",
       "    <tr>\n",
       "      <td>1900</td>\n",
       "      <td>0.403800</td>\n",
       "      <td>0.391362</td>\n",
       "    </tr>\n",
       "    <tr>\n",
       "      <td>2000</td>\n",
       "      <td>0.403800</td>\n",
       "      <td>0.390505</td>\n",
       "    </tr>\n",
       "    <tr>\n",
       "      <td>2100</td>\n",
       "      <td>0.393400</td>\n",
       "      <td>0.386268</td>\n",
       "    </tr>\n",
       "    <tr>\n",
       "      <td>2200</td>\n",
       "      <td>0.397800</td>\n",
       "      <td>0.384106</td>\n",
       "    </tr>\n",
       "    <tr>\n",
       "      <td>2300</td>\n",
       "      <td>0.407100</td>\n",
       "      <td>0.381854</td>\n",
       "    </tr>\n",
       "    <tr>\n",
       "      <td>2400</td>\n",
       "      <td>0.386200</td>\n",
       "      <td>0.380570</td>\n",
       "    </tr>\n",
       "    <tr>\n",
       "      <td>2500</td>\n",
       "      <td>0.397900</td>\n",
       "      <td>0.380043</td>\n",
       "    </tr>\n",
       "  </tbody>\n",
       "</table><p>"
      ],
      "text/plain": [
       "<IPython.core.display.HTML object>"
      ]
     },
     "metadata": {},
     "output_type": "display_data"
    },
    {
     "name": "stderr",
     "output_type": "stream",
     "text": [
      "C:\\Users\\liamd\\AppData\\Local\\Programs\\Python\\Python311\\Lib\\site-packages\\torch\\utils\\checkpoint.py:429: UserWarning: torch.utils.checkpoint: please pass in use_reentrant=True or use_reentrant=False explicitly. The default value of use_reentrant will be updated to be False in the future. To maintain current behavior, pass use_reentrant=True. It is recommended that you use use_reentrant=False. Refer to docs for more details on the differences between the two variants.\n",
      "  warnings.warn(\n",
      "C:\\Users\\liamd\\AppData\\Local\\Programs\\Python\\Python311\\Lib\\site-packages\\torch\\utils\\checkpoint.py:429: UserWarning: torch.utils.checkpoint: please pass in use_reentrant=True or use_reentrant=False explicitly. The default value of use_reentrant will be updated to be False in the future. To maintain current behavior, pass use_reentrant=True. It is recommended that you use use_reentrant=False. Refer to docs for more details on the differences between the two variants.\n",
      "  warnings.warn(\n",
      "C:\\Users\\liamd\\AppData\\Local\\Programs\\Python\\Python311\\Lib\\site-packages\\torch\\utils\\checkpoint.py:429: UserWarning: torch.utils.checkpoint: please pass in use_reentrant=True or use_reentrant=False explicitly. The default value of use_reentrant will be updated to be False in the future. To maintain current behavior, pass use_reentrant=True. It is recommended that you use use_reentrant=False. Refer to docs for more details on the differences between the two variants.\n",
      "  warnings.warn(\n",
      "C:\\Users\\liamd\\AppData\\Local\\Programs\\Python\\Python311\\Lib\\site-packages\\torch\\utils\\checkpoint.py:429: UserWarning: torch.utils.checkpoint: please pass in use_reentrant=True or use_reentrant=False explicitly. The default value of use_reentrant will be updated to be False in the future. To maintain current behavior, pass use_reentrant=True. It is recommended that you use use_reentrant=False. Refer to docs for more details on the differences between the two variants.\n",
      "  warnings.warn(\n",
      "C:\\Users\\liamd\\AppData\\Local\\Programs\\Python\\Python311\\Lib\\site-packages\\torch\\utils\\checkpoint.py:429: UserWarning: torch.utils.checkpoint: please pass in use_reentrant=True or use_reentrant=False explicitly. The default value of use_reentrant will be updated to be False in the future. To maintain current behavior, pass use_reentrant=True. It is recommended that you use use_reentrant=False. Refer to docs for more details on the differences between the two variants.\n",
      "  warnings.warn(\n",
      "C:\\Users\\liamd\\AppData\\Local\\Programs\\Python\\Python311\\Lib\\site-packages\\torch\\utils\\checkpoint.py:429: UserWarning: torch.utils.checkpoint: please pass in use_reentrant=True or use_reentrant=False explicitly. The default value of use_reentrant will be updated to be False in the future. To maintain current behavior, pass use_reentrant=True. It is recommended that you use use_reentrant=False. Refer to docs for more details on the differences between the two variants.\n",
      "  warnings.warn(\n",
      "C:\\Users\\liamd\\AppData\\Local\\Programs\\Python\\Python311\\Lib\\site-packages\\torch\\utils\\checkpoint.py:429: UserWarning: torch.utils.checkpoint: please pass in use_reentrant=True or use_reentrant=False explicitly. The default value of use_reentrant will be updated to be False in the future. To maintain current behavior, pass use_reentrant=True. It is recommended that you use use_reentrant=False. Refer to docs for more details on the differences between the two variants.\n",
      "  warnings.warn(\n",
      "C:\\Users\\liamd\\AppData\\Local\\Programs\\Python\\Python311\\Lib\\site-packages\\torch\\utils\\checkpoint.py:429: UserWarning: torch.utils.checkpoint: please pass in use_reentrant=True or use_reentrant=False explicitly. The default value of use_reentrant will be updated to be False in the future. To maintain current behavior, pass use_reentrant=True. It is recommended that you use use_reentrant=False. Refer to docs for more details on the differences between the two variants.\n",
      "  warnings.warn(\n",
      "C:\\Users\\liamd\\AppData\\Local\\Programs\\Python\\Python311\\Lib\\site-packages\\torch\\utils\\checkpoint.py:429: UserWarning: torch.utils.checkpoint: please pass in use_reentrant=True or use_reentrant=False explicitly. The default value of use_reentrant will be updated to be False in the future. To maintain current behavior, pass use_reentrant=True. It is recommended that you use use_reentrant=False. Refer to docs for more details on the differences between the two variants.\n",
      "  warnings.warn(\n",
      "C:\\Users\\liamd\\AppData\\Local\\Programs\\Python\\Python311\\Lib\\site-packages\\torch\\utils\\checkpoint.py:429: UserWarning: torch.utils.checkpoint: please pass in use_reentrant=True or use_reentrant=False explicitly. The default value of use_reentrant will be updated to be False in the future. To maintain current behavior, pass use_reentrant=True. It is recommended that you use use_reentrant=False. Refer to docs for more details on the differences between the two variants.\n",
      "  warnings.warn(\n",
      "C:\\Users\\liamd\\AppData\\Local\\Programs\\Python\\Python311\\Lib\\site-packages\\torch\\utils\\checkpoint.py:429: UserWarning: torch.utils.checkpoint: please pass in use_reentrant=True or use_reentrant=False explicitly. The default value of use_reentrant will be updated to be False in the future. To maintain current behavior, pass use_reentrant=True. It is recommended that you use use_reentrant=False. Refer to docs for more details on the differences between the two variants.\n",
      "  warnings.warn(\n",
      "C:\\Users\\liamd\\AppData\\Local\\Programs\\Python\\Python311\\Lib\\site-packages\\torch\\utils\\checkpoint.py:429: UserWarning: torch.utils.checkpoint: please pass in use_reentrant=True or use_reentrant=False explicitly. The default value of use_reentrant will be updated to be False in the future. To maintain current behavior, pass use_reentrant=True. It is recommended that you use use_reentrant=False. Refer to docs for more details on the differences between the two variants.\n",
      "  warnings.warn(\n",
      "C:\\Users\\liamd\\AppData\\Local\\Programs\\Python\\Python311\\Lib\\site-packages\\torch\\utils\\checkpoint.py:429: UserWarning: torch.utils.checkpoint: please pass in use_reentrant=True or use_reentrant=False explicitly. The default value of use_reentrant will be updated to be False in the future. To maintain current behavior, pass use_reentrant=True. It is recommended that you use use_reentrant=False. Refer to docs for more details on the differences between the two variants.\n",
      "  warnings.warn(\n",
      "C:\\Users\\liamd\\AppData\\Local\\Programs\\Python\\Python311\\Lib\\site-packages\\torch\\utils\\checkpoint.py:429: UserWarning: torch.utils.checkpoint: please pass in use_reentrant=True or use_reentrant=False explicitly. The default value of use_reentrant will be updated to be False in the future. To maintain current behavior, pass use_reentrant=True. It is recommended that you use use_reentrant=False. Refer to docs for more details on the differences between the two variants.\n",
      "  warnings.warn(\n",
      "C:\\Users\\liamd\\AppData\\Local\\Programs\\Python\\Python311\\Lib\\site-packages\\torch\\utils\\checkpoint.py:429: UserWarning: torch.utils.checkpoint: please pass in use_reentrant=True or use_reentrant=False explicitly. The default value of use_reentrant will be updated to be False in the future. To maintain current behavior, pass use_reentrant=True. It is recommended that you use use_reentrant=False. Refer to docs for more details on the differences between the two variants.\n",
      "  warnings.warn(\n",
      "C:\\Users\\liamd\\AppData\\Local\\Programs\\Python\\Python311\\Lib\\site-packages\\torch\\utils\\checkpoint.py:429: UserWarning: torch.utils.checkpoint: please pass in use_reentrant=True or use_reentrant=False explicitly. The default value of use_reentrant will be updated to be False in the future. To maintain current behavior, pass use_reentrant=True. It is recommended that you use use_reentrant=False. Refer to docs for more details on the differences between the two variants.\n",
      "  warnings.warn(\n",
      "C:\\Users\\liamd\\AppData\\Local\\Programs\\Python\\Python311\\Lib\\site-packages\\torch\\utils\\checkpoint.py:429: UserWarning: torch.utils.checkpoint: please pass in use_reentrant=True or use_reentrant=False explicitly. The default value of use_reentrant will be updated to be False in the future. To maintain current behavior, pass use_reentrant=True. It is recommended that you use use_reentrant=False. Refer to docs for more details on the differences between the two variants.\n",
      "  warnings.warn(\n",
      "C:\\Users\\liamd\\AppData\\Local\\Programs\\Python\\Python311\\Lib\\site-packages\\torch\\utils\\checkpoint.py:429: UserWarning: torch.utils.checkpoint: please pass in use_reentrant=True or use_reentrant=False explicitly. The default value of use_reentrant will be updated to be False in the future. To maintain current behavior, pass use_reentrant=True. It is recommended that you use use_reentrant=False. Refer to docs for more details on the differences between the two variants.\n",
      "  warnings.warn(\n",
      "C:\\Users\\liamd\\AppData\\Local\\Programs\\Python\\Python311\\Lib\\site-packages\\torch\\utils\\checkpoint.py:429: UserWarning: torch.utils.checkpoint: please pass in use_reentrant=True or use_reentrant=False explicitly. The default value of use_reentrant will be updated to be False in the future. To maintain current behavior, pass use_reentrant=True. It is recommended that you use use_reentrant=False. Refer to docs for more details on the differences between the two variants.\n",
      "  warnings.warn(\n",
      "C:\\Users\\liamd\\AppData\\Local\\Programs\\Python\\Python311\\Lib\\site-packages\\torch\\utils\\checkpoint.py:429: UserWarning: torch.utils.checkpoint: please pass in use_reentrant=True or use_reentrant=False explicitly. The default value of use_reentrant will be updated to be False in the future. To maintain current behavior, pass use_reentrant=True. It is recommended that you use use_reentrant=False. Refer to docs for more details on the differences between the two variants.\n",
      "  warnings.warn(\n",
      "C:\\Users\\liamd\\AppData\\Local\\Programs\\Python\\Python311\\Lib\\site-packages\\torch\\utils\\checkpoint.py:429: UserWarning: torch.utils.checkpoint: please pass in use_reentrant=True or use_reentrant=False explicitly. The default value of use_reentrant will be updated to be False in the future. To maintain current behavior, pass use_reentrant=True. It is recommended that you use use_reentrant=False. Refer to docs for more details on the differences between the two variants.\n",
      "  warnings.warn(\n",
      "C:\\Users\\liamd\\AppData\\Local\\Programs\\Python\\Python311\\Lib\\site-packages\\torch\\utils\\checkpoint.py:429: UserWarning: torch.utils.checkpoint: please pass in use_reentrant=True or use_reentrant=False explicitly. The default value of use_reentrant will be updated to be False in the future. To maintain current behavior, pass use_reentrant=True. It is recommended that you use use_reentrant=False. Refer to docs for more details on the differences between the two variants.\n",
      "  warnings.warn(\n",
      "C:\\Users\\liamd\\AppData\\Local\\Programs\\Python\\Python311\\Lib\\site-packages\\torch\\utils\\checkpoint.py:429: UserWarning: torch.utils.checkpoint: please pass in use_reentrant=True or use_reentrant=False explicitly. The default value of use_reentrant will be updated to be False in the future. To maintain current behavior, pass use_reentrant=True. It is recommended that you use use_reentrant=False. Refer to docs for more details on the differences between the two variants.\n",
      "  warnings.warn(\n",
      "C:\\Users\\liamd\\AppData\\Local\\Programs\\Python\\Python311\\Lib\\site-packages\\torch\\utils\\checkpoint.py:429: UserWarning: torch.utils.checkpoint: please pass in use_reentrant=True or use_reentrant=False explicitly. The default value of use_reentrant will be updated to be False in the future. To maintain current behavior, pass use_reentrant=True. It is recommended that you use use_reentrant=False. Refer to docs for more details on the differences between the two variants.\n",
      "  warnings.warn(\n"
     ]
    },
    {
     "data": {
      "text/plain": [
       "TrainOutput(global_step=2500, training_loss=0.44036041259765624, metrics={'train_runtime': 12239.9488, 'train_samples_per_second': 0.408, 'train_steps_per_second': 0.204, 'total_flos': 9.671022477312e+16, 'train_loss': 0.44036041259765624, 'epoch': 0.5})"
      ]
     },
     "execution_count": 20,
     "metadata": {},
     "output_type": "execute_result"
    },
    {
     "name": "stderr",
     "output_type": "stream",
     "text": [
      "\u001b[34m\u001b[1mwandb\u001b[0m: While tearing down the service manager. The following error has occurred: [WinError 10054] An existing connection was forcibly closed by the remote host\n"
     ]
    }
   ],
   "source": [
    "import transformers\n",
    "from datetime import datetime\n",
    "\n",
    "################### change the name of the model here ###################\n",
    "project = \"journal-finetune\"\n",
    "base_model_name = \"mistral\"\n",
    "run_name = base_model_name + \"-\" + project\n",
    "output_dir = \"./\" + run_name\n",
    "\n",
    "tokenizer.pad_token = tokenizer.eos_token\n",
    "\n",
    "trainer = transformers.Trainer(\n",
    "    model=model,\n",
    "    train_dataset=tokenized_train_dataset,\n",
    "    eval_dataset=tokenized_val_dataset,\n",
    "    args=transformers.TrainingArguments(\n",
    "        output_dir=output_dir,\n",
    "        warmup_steps=1,\n",
    "        per_device_train_batch_size=2,\n",
    "        gradient_accumulation_steps=1,\n",
    "        max_steps=2500,\n",
    "        learning_rate=5e-5, #2.5e-5, # Want a small lr for finetuning\n",
    "        bf16=True,\n",
    "        optim=\"paged_adamw_8bit\",\n",
    "        logging_steps=100,              # When to start reporting loss\n",
    "        logging_dir=\"./logs\",        # Directory for storing logs\n",
    "        save_strategy=\"steps\",       # Save the model checkpoint every logging step\n",
    "        save_steps=100,                # Save checkpoints every n steps\n",
    "        evaluation_strategy=\"steps\", # Evaluate the model every logging step\n",
    "        eval_steps=100,               # Evaluate and save checkpoints every n steps\n",
    "        do_eval=True,                # Perform evaluation at the end of training\n",
    "        report_to=\"wandb\",           # Comment this out if you don't want to use weights & baises\n",
    "        run_name=f\"{run_name}-{datetime.now().strftime('%Y-%m-%d-%H-%M')}\"          # Name of the W&B run (optional)\n",
    "    ),\n",
    "    data_collator=transformers.DataCollatorForLanguageModeling(tokenizer, mlm=False),\n",
    ")\n",
    "\n",
    "model.config.use_cache = False  # silence the warnings. Please re-enable for inference!\n",
    "trainer.train()"
   ]
  },
  {
   "cell_type": "markdown",
   "metadata": {
    "id": "0D57XqcsyRgo"
   },
   "source": [
    "### 6. Load model\n"
   ]
  },
  {
   "cell_type": "code",
   "execution_count": 13,
   "metadata": {},
   "outputs": [],
   "source": [
    "import torch\n",
    "from transformers import AutoTokenizer, AutoModelForCausalLM, BitsAndBytesConfig\n",
    "import chess.engine\n",
    "\n",
    "base_model_id = \"mistralai/Mistral-7B-v0.1\"\n",
    "\n",
    "bnb_config = BitsAndBytesConfig(\n",
    "    load_in_4bit=True,\n",
    "    bnb_4bit_use_double_quant=True,\n",
    "    bnb_4bit_quant_type=\"nf4\",\n",
    "    bnb_4bit_compute_dtype=torch.bfloat16\n",
    ")"
   ]
  },
  {
   "cell_type": "code",
   "execution_count": 14,
   "metadata": {
    "id": "SKSnF016yRgp"
   },
   "outputs": [
    {
     "name": "stderr",
     "output_type": "stream",
     "text": [
      "C:\\Users\\liamd\\AppData\\Local\\Programs\\Python\\Python311\\Lib\\site-packages\\transformers\\models\\auto\\auto_factory.py:472: FutureWarning: The `use_auth_token` argument is deprecated and will be removed in v5 of Transformers.\n",
      "  warnings.warn(\n"
     ]
    },
    {
     "data": {
      "application/vnd.jupyter.widget-view+json": {
       "model_id": "462417fb0f9647539605e0e37e5b5456",
       "version_major": 2,
       "version_minor": 0
      },
      "text/plain": [
       "Loading checkpoint shards:   0%|          | 0/2 [00:00<?, ?it/s]"
      ]
     },
     "metadata": {},
     "output_type": "display_data"
    },
    {
     "name": "stderr",
     "output_type": "stream",
     "text": [
      "C:\\Users\\liamd\\AppData\\Local\\Programs\\Python\\Python311\\Lib\\site-packages\\transformers\\utils\\hub.py:374: FutureWarning: The `use_auth_token` argument is deprecated and will be removed in v5 of Transformers.\n",
      "  warnings.warn(\n",
      "Special tokens have been added in the vocabulary, make sure the associated word embeddings are fine-tuned or trained.\n"
     ]
    }
   ],
   "source": [
    "base_model = AutoModelForCausalLM.from_pretrained(\n",
    "    base_model_id,  # Mistral, same as before\n",
    "    quantization_config=bnb_config,  # Same quantization config as before\n",
    "    device_map=\"auto\",\n",
    "    trust_remote_code=True,\n",
    "    use_auth_token=True\n",
    ")\n",
    "\n",
    "tokenizer = AutoTokenizer.from_pretrained(base_model_id, trust_remote_code=True)\n",
    "tokenizer.pad_token = tokenizer.eos_token"
   ]
  },
  {
   "cell_type": "code",
   "execution_count": 15,
   "metadata": {
    "id": "GwsiqhWuyRgp"
   },
   "outputs": [],
   "source": [
    "from peft import PeftModel\n",
    "\n",
    "ft_model = PeftModel.from_pretrained(base_model, \"mistral-journal-finetune/checkpoint-2500\")"
   ]
  },
  {
   "cell_type": "code",
   "execution_count": 4,
   "metadata": {},
   "outputs": [],
   "source": [
    "eval_prompt = \"\"\"\"Game Sequence:\n",
    "['d4', 'e5', 'dxe5']\n",
    "Current Position: white has 8 pawns on: a2,b2,c2,e2,f2,g2,h2,e5\n",
    "white has 2 knights on: b1,g1\n",
    "white has 2 bishops on: c1,f1\n",
    "white has 2 rooks on: a1,h1\n",
    "white has 1 queen on: d1\n",
    "white has 1 king on: e1\n",
    "black has 7 pawns on: a7,b7,c7,d7,f7,g7,h7\n",
    "black has 2 knights on: b8,g8\n",
    "black has 2 bishops on: c8,f8\n",
    "black has 2 rooks on: a8,h8\n",
    "black has 1 queen on: d8\n",
    "black has 1 king on: e8\n",
    "\n",
    "Black to move.\n",
    "Legal Moves: ['Ne7', 'Nh6', 'Nf6', 'Be7', 'Bd6', 'Bc5', 'Bb4+', 'Ba3', 'Ke7', 'Qe7', 'Qf6', 'Qg5', 'Qh4', 'Nc6', 'Na6', 'h6', 'g6', 'f6', 'd6', 'c6', 'b6', 'a6', 'h5', 'g5', 'f5', 'd5', 'c5', 'b5', 'a5']\n",
    "\n",
    "### Answer:\"\"\"\n",
    "\n",
    "model_input = tokenizer(eval_prompt, return_tensors=\"pt\").to(\"cuda\")"
   ]
  },
  {
   "cell_type": "code",
   "execution_count": 5,
   "metadata": {
    "id": "lMkVNEUvyRgp"
   },
   "outputs": [
    {
     "name": "stdout",
     "output_type": "stream",
     "text": [
      "\"Game Sequence: ['d4', 'e5', 'dxe5']\n",
      "Current Position: white has 8 pawns on: a2,b2,c2,e2,f2,g2,h2,e5\n",
      "white has 2 knights on: b1,g1\n",
      "white has 2 bishops on: c1,f1\n",
      "white has 2 rooks on: a1,h1\n",
      "white has 1 queen on: d1\n",
      "white has 1 king on: e1\n",
      "black has 7 pawns on: a7,b7,c7,d7,f7,g7,h7\n",
      "black has 2 knights on: b8,g8\n",
      "black has 2 bishops on: c8,f8\n",
      "black has 2 rooks on: a8,h8\n",
      "black has 1 queen on: d8\n",
      "black has 1 king on: e8\n",
      "\n",
      "Black to move.\n",
      "Legal Moves: ['Ne7', 'Nh6', 'Nf6', 'Be7', 'Bd6', 'Bc5', 'Bb4+', 'Ba3', 'Ke7', 'Qe7', 'Qf6', 'Qg5', 'Qh4', 'Nc6', 'Na6', 'h6', 'g6', 'f6', 'd6', 'c6', 'b6', 'a6', 'h5', 'g5', 'f5', 'd5', 'c5', 'b5', 'a5']\n",
      "### Answer: d6\n",
      "Game Sequence: ['d4', 'e5',\n"
     ]
    }
   ],
   "source": [
    "ft_model.eval()\n",
    "with torch.no_grad():\n",
    "    print(tokenizer.decode(ft_model.generate(**model_input, max_new_tokens=15, pad_token_id=2)[0], skip_special_tokens=True))"
   ]
  },
  {
   "cell_type": "code",
   "execution_count": 16,
   "metadata": {},
   "outputs": [],
   "source": [
    "def fen_to_piece_description(fen):\n",
    "    board = chess.Board(fen)\n",
    "    piece_description = \"\"\n",
    "\n",
    "    for color in [chess.WHITE, chess.BLACK]:\n",
    "        for piece_type in [chess.PAWN, chess.KNIGHT, chess.BISHOP, chess.ROOK, chess.QUEEN, chess.KING]:\n",
    "            pieces = list(board.pieces(piece_type, color))\n",
    "            if pieces:\n",
    "                piece_names = [chess.square_name(piece) for piece in pieces]\n",
    "                piece_description += f\"{chess.COLOR_NAMES[color]} has {len(pieces)} {chess.PIECE_NAMES[piece_type]}{'s' if len(pieces) > 1 else ''} on: {','.join(piece_names)}\\n\"\n",
    "            else:\n",
    "                piece_description += f\"{chess.COLOR_NAMES[color]} has no {chess.PIECE_NAMES[piece_type]}\\n\"\n",
    "\n",
    "    return piece_description\n",
    "\n",
    "def get_legal_moves(moves):\n",
    "    board = chess.Board()\n",
    "    \n",
    "    for move in moves:\n",
    "        try:\n",
    "            board.push_san(move)\n",
    "        except ValueError:\n",
    "            # Handle invalid moves\n",
    "            return []\n",
    "\n",
    "    legal_moves = [board.san(move) for move in board.legal_moves]\n",
    "    return legal_moves\n",
    "\n",
    "def whose_turn(moves):\n",
    "    board = chess.Board()\n",
    "\n",
    "    for move in moves:\n",
    "        try:\n",
    "            board.push_san(move)\n",
    "        except ValueError:\n",
    "            return None  # Invalid moves\n",
    "\n",
    "    if board.turn == chess.WHITE:\n",
    "        return \"White to move.\"\n",
    "    else:\n",
    "        return \"Black to move.\"\n",
    "\n",
    "def convert_moves_to_board_state(moves):\n",
    "    # Initialize a chess board\n",
    "    board = chess.Board()\n",
    "\n",
    "    # Loop through the moves and apply them to the board\n",
    "    for move in moves:\n",
    "        board.push_san(move)\n",
    "\n",
    "    return board.fen()\n",
    "\n",
    "def evaluate_moves(game_sequence, time_per_move=0.5):\n",
    "\n",
    "    legal_moves = get_legal_moves(game_sequence)\n",
    "\n",
    "    # Start the simple chess engine\n",
    "    engine = chess.engine.SimpleEngine.popen_uci(r\"D:\\DDownloads\\stockfish-windows-x86-64-modern\\stockfish\\stockfish-windows-x86-64-modern.exe\")\n",
    "\n",
    "    # Create the initial board state\n",
    "    board = chess.Board()\n",
    "    for sequence in game_sequence:\n",
    "        try: \n",
    "            board.push_san(sequence)\n",
    "        except:\n",
    "            continue\n",
    "    \n",
    "\n",
    "    move_scores = {}\n",
    "    for move in legal_moves:\n",
    "        try:\n",
    "            # Clone the board to avoid modifying the original\n",
    "            cloned_board = board.copy()\n",
    "            cloned_board.push_san(move)\n",
    "            info = engine.analyse(cloned_board, chess.engine.Limit(time=time_per_move))\n",
    "            score = info[\"score\"].relative.score()\n",
    "            if score == None:\n",
    "                mate_score = info[\"score\"].relative.mate()\n",
    "                if mate_score != 0:\n",
    "                    score = (mate_score/abs(mate_score))*3000\n",
    "                else:\n",
    "                    score = mate_score\n",
    "                    \n",
    "            move_scores[move] = score\n",
    "        except chess.engine.EngineError:\n",
    "            # print(\"EngineError occurred for move\", move)\n",
    "            continue\n",
    "\n",
    "    # Shut down the chess engine\n",
    "    engine.quit()\n",
    "\n",
    "    # Determine if it's Black or White to move\n",
    "    is_white_to_move = board.turn\n",
    "\n",
    "    sorted_move_scores = sorted(move_scores.items(), key=lambda x: x[1])\n",
    "\n",
    "    # Convert the sorted move-score pairs to a string list\n",
    "    #move_score_strings = [f\"{move}:{str(score)}\" for move, score in sorted_move_scores]\n",
    "    move_score_strings = [f\"{move}\" for move, score in sorted_move_scores]\n",
    "\n",
    "    return \", \".join(move_score_strings)"
   ]
  },
  {
   "cell_type": "code",
   "execution_count": 17,
   "metadata": {},
   "outputs": [],
   "source": [
    "def get_move(input_prompt, creativity):\n",
    "    model_input = tokenizer(input_prompt, return_tensors=\"pt\").to(\"cuda\")\n",
    "    ft_model.eval()\n",
    "    with torch.no_grad():\n",
    "        raw_move = tokenizer.decode(ft_model.generate(**model_input, do_sample=True, temperature=creativity, max_new_tokens=10, pad_token_id=2)[0], skip_special_tokens=True)\n",
    "\n",
    "    #print(\"***\", raw_move, \"***\")\n",
    "    move = raw_move.split('\\n')\n",
    "    \n",
    "    line_with_answer = None\n",
    "\n",
    "    for line in move:\n",
    "        if \"Answer\" in line:\n",
    "            line_with_answer = line\n",
    "            break\n",
    "        \n",
    "    return line.split(\": \")[1]\n",
    "\n",
    "# move = get_move(eval_prompt, 1.2)\n",
    "# print(move)"
   ]
  },
  {
   "cell_type": "code",
   "execution_count": null,
   "metadata": {},
   "outputs": [
    {
     "name": "stdout",
     "output_type": "stream",
     "text": [
      "Your legal moves:  ['Nh6', 'Nf6', 'Nc6', 'Na6', 'h6', 'g6', 'f6', 'e6', 'd6', 'c6', 'b6', 'a6', 'h5', 'g5', 'f5', 'e5', 'd5', 'c5', 'b5', 'a5']\n"
     ]
    },
    {
     "name": "stdout",
     "output_type": "stream",
     "text": [
      "Enter your move:  b6\n"
     ]
    },
    {
     "name": "stdout",
     "output_type": "stream",
     "text": [
      "### Using the current position and legal moves provided, predict a human move that an intermediate chess player would make. Always use the list of legal moves which are ordered from best to worst:\n",
      "Current Position: white has 8 pawns on: a2,b2,c2,d2,f2,g2,h2,e4\n",
      "white has 2 knights on: b1,g1\n",
      "white has 2 bishops on: c1,f1\n",
      "white has 2 rooks on: a1,h1\n",
      "white has 1 queen on: d1\n",
      "white has 1 king on: e1\n",
      "black has 8 pawns on: b6,a7,c7,d7,e7,f7,g7,h7\n",
      "black has 2 knights on: b8,g8\n",
      "black has 2 bishops on: c8,f8\n",
      "black has 2 rooks on: a8,h8\n",
      "black has 1 queen on: d8\n",
      "black has 1 king on: e8\n",
      " \n",
      "White to move.\n",
      "Legal Moves: d4, Nc3, Nf3, a3, b3, h4, h3, Be2, Bc4, g3, d3, f4, Nh3, Bd3, Ne2, f3, c3, e5, Bb5, c4, a4, Qe2, g4, Qg4, Qf3, b4, Na3, Qh5, Ke2, Ba6\n",
      "\n",
      "### Answer:\n",
      "Computer's Move: d4\n",
      "Your legal moves:  ['Nh6', 'Nf6', 'Bb7', 'Ba6', 'Nc6', 'Na6', 'h6', 'g6', 'f6', 'e6', 'd6', 'c6', 'a6', 'b5', 'h5', 'g5', 'f5', 'e5', 'd5', 'c5', 'a5']\n"
     ]
    },
    {
     "name": "stdout",
     "output_type": "stream",
     "text": [
      "Enter your move:  e6\n"
     ]
    },
    {
     "name": "stdout",
     "output_type": "stream",
     "text": [
      "### Using the current position and legal moves provided, predict a human move that an intermediate chess player would make. Always use the list of legal moves which are ordered from best to worst:\n",
      "Current Position: white has 8 pawns on: a2,b2,c2,f2,g2,h2,d4,e4\n",
      "white has 2 knights on: b1,g1\n",
      "white has 2 bishops on: c1,f1\n",
      "white has 2 rooks on: a1,h1\n",
      "white has 1 queen on: d1\n",
      "white has 1 king on: e1\n",
      "black has 8 pawns on: b6,e6,a7,c7,d7,f7,g7,h7\n",
      "black has 2 knights on: b8,g8\n",
      "black has 2 bishops on: c8,f8\n",
      "black has 2 rooks on: a8,h8\n",
      "black has 1 queen on: d8\n",
      "black has 1 king on: e8\n",
      " \n",
      "White to move.\n",
      "Legal Moves: Bd3, c3, Nc3, Nd2, Nf3, h4, a3, c4, Bf4, Bb5, Nh3, Ne2, Qf3, Bd2, g3, Be3, a4, Qe2, Be2, e5, h3, Bc4, g4, Qd3, Qd2, f4, f3, d5, b3, Qg4, Qh5, Na3, b4, Ke2, Kd2, Bg5, Ba6, Bh6\n",
      "\n",
      "### Answer:\n",
      "Computer's Move: Nf3\n",
      "Your legal moves:  ['Ne7', 'Nh6', 'Nf6', 'Be7', 'Bd6', 'Bc5', 'Bb4+', 'Ba3', 'Ke7', 'Qe7', 'Qf6', 'Qg5', 'Qh4', 'Bb7', 'Ba6', 'Nc6', 'Na6', 'h6', 'g6', 'f6', 'd6', 'c6', 'a6', 'e5', 'b5', 'h5', 'g5', 'f5', 'd5', 'c5', 'a5']\n"
     ]
    },
    {
     "name": "stdout",
     "output_type": "stream",
     "text": [
      "Enter your move:  Bb7\n"
     ]
    },
    {
     "name": "stdout",
     "output_type": "stream",
     "text": [
      "### Using the current position and legal moves provided, predict a human move that an intermediate chess player would make. Always use the list of legal moves which are ordered from best to worst:\n",
      "Current Position: white has 8 pawns on: a2,b2,c2,f2,g2,h2,d4,e4\n",
      "white has 2 knights on: b1,f3\n",
      "white has 2 bishops on: c1,f1\n",
      "white has 2 rooks on: a1,h1\n",
      "white has 1 queen on: d1\n",
      "white has 1 king on: e1\n",
      "black has 8 pawns on: b6,e6,a7,c7,d7,f7,g7,h7\n",
      "black has 2 knights on: b8,g8\n",
      "black has 2 bishops on: b7,f8\n",
      "black has 2 rooks on: a8,h8\n",
      "black has 1 queen on: d8\n",
      "black has 1 king on: e8\n",
      " \n",
      "White to move.\n",
      "Legal Moves: Bd3, Nbd2, Qe2, Nc3, e5, Nfd2, Qd3, d5, Bg5, a3, Be2, Bc4, c4, Bb5, g3, Bd2, Bf4, h3, h4, Ne5, g4, Be3, b3, c3, a4, Rg1, Ng5, Qd2, b4, Ng1, Ke2, Na3, Kd2, Nh4, Ba6, Bh6\n",
      "\n",
      "### Answer:\n",
      "Computer's Move: Bd3\n",
      "Your legal moves:  ['Ne7', 'Nh6', 'Nf6', 'Be7', 'Bd6', 'Bc5', 'Bb4+', 'Ba3', 'Ke7', 'Qc8', 'Qe7', 'Qf6', 'Qg5', 'Qh4', 'Nc6', 'Na6', 'Bc8', 'Bc6', 'Ba6', 'Bd5', 'Bxe4', 'h6', 'g6', 'f6', 'd6', 'c6', 'a6', 'e5', 'b5', 'h5', 'g5', 'f5', 'd5', 'c5', 'a5']\n"
     ]
    },
    {
     "name": "stdout",
     "output_type": "stream",
     "text": [
      "Enter your move:  c5\n"
     ]
    },
    {
     "name": "stdout",
     "output_type": "stream",
     "text": [
      "### Using the current position and legal moves provided, predict a human move that an intermediate chess player would make. Always use the list of legal moves which are ordered from best to worst:\n",
      "Current Position: white has 8 pawns on: a2,b2,c2,f2,g2,h2,d4,e4\n",
      "white has 2 knights on: b1,f3\n",
      "white has 2 bishops on: c1,d3\n",
      "white has 2 rooks on: a1,h1\n",
      "white has 1 queen on: d1\n",
      "white has 1 king on: e1\n",
      "black has 8 pawns on: c5,b6,e6,a7,d7,f7,g7,h7\n",
      "black has 2 knights on: b8,g8\n",
      "black has 2 bishops on: b7,f8\n",
      "black has 2 rooks on: a8,h8\n",
      "black has 1 queen on: d8\n",
      "black has 1 king on: e8\n",
      " \n",
      "White to move.\n",
      "Legal Moves: c3, d5, Nc3, a3, Bd2, O-O, Qe2, Be3, Nbd2, dxc5, a4, h4, Bf4, c4, h3, Bg5, Qd2, Kf1, b3, b4, g3, e5, Na3, Rg1, g4, Bc4, Rf1, Be2, Ne5, Ke2, Ng5, Nfd2, Bb5, Bf1, Ng1, Kd2, Nh4, Ba6, Bh6\n",
      "\n",
      "### Answer:\n",
      "Computer's Move: dxc5\n",
      "Your legal moves:  ['Ne7', 'Nh6', 'Nf6', 'Be7', 'Bd6', 'Bxc5', 'Ke7', 'Qc8', 'Qe7', 'Qc7', 'Qf6', 'Qg5', 'Qh4', 'Nc6', 'Na6', 'Bc8', 'Bc6', 'Ba6', 'Bd5', 'Bxe4', 'bxc5', 'h6', 'g6', 'f6', 'd6', 'a6', 'e5', 'b5', 'h5', 'g5', 'f5', 'd5', 'a5']\n"
     ]
    },
    {
     "name": "stdout",
     "output_type": "stream",
     "text": [
      "Enter your move:  Bxc5\n"
     ]
    },
    {
     "name": "stdout",
     "output_type": "stream",
     "text": [
      "### Using the current position and legal moves provided, predict a human move that an intermediate chess player would make. Always use the list of legal moves which are ordered from best to worst:\n",
      "Current Position: white has 7 pawns on: a2,b2,c2,f2,g2,h2,e4\n",
      "white has 2 knights on: b1,f3\n",
      "white has 2 bishops on: c1,d3\n",
      "white has 2 rooks on: a1,h1\n",
      "white has 1 queen on: d1\n",
      "white has 1 king on: e1\n",
      "black has 7 pawns on: b6,e6,a7,d7,f7,g7,h7\n",
      "black has 2 knights on: b8,g8\n",
      "black has 2 bishops on: c5,b7\n",
      "black has 2 rooks on: a8,h8\n",
      "black has 1 queen on: d8\n",
      "black has 1 king on: e8\n",
      " \n",
      "White to move.\n",
      "Legal Moves: Nc3, Bf4, Qe2, Bg5, a3, Nbd2, Qd2, O-O, c3, Bd2, h3, b3, c4, a4, e5, Nfd2, h4, Be3, Ng5, g3, Na3, Rf1, Ne5, Rg1, Ng1, g4, Kf1, b4, Be2, Ke2, Bc4, Bb5, Bf1, Kd2, Nd4, Nh4, Ba6, Bh6\n",
      "\n",
      "### Answer:\n",
      "Computer's Move: Bg5\n",
      "Your legal moves:  ['Ne7', 'Nh6', 'Nf6', 'Kf8', 'Qc8', 'Qe7', 'Qc7', 'Qf6', 'Qxg5', 'Nc6', 'Na6', 'Bc8', 'Bc6', 'Ba6', 'Bd5', 'Bxe4', 'Bf8', 'Be7', 'Bd6', 'Bd4', 'Bb4+', 'Be3', 'Ba3', 'Bxf2+', 'h6', 'g6', 'f6', 'd6', 'a6', 'e5', 'b5', 'h5', 'f5', 'd5', 'a5']\n"
     ]
    },
    {
     "name": "stdout",
     "output_type": "stream",
     "text": [
      "Enter your move:  Nf6\n"
     ]
    },
    {
     "name": "stdout",
     "output_type": "stream",
     "text": [
      "### Using the current position and legal moves provided, predict a human move that an intermediate chess player would make. Always use the list of legal moves which are ordered from best to worst:\n",
      "Current Position: white has 7 pawns on: a2,b2,c2,f2,g2,h2,e4\n",
      "white has 2 knights on: b1,f3\n",
      "white has 2 bishops on: d3,g5\n",
      "white has 2 rooks on: a1,h1\n",
      "white has 1 queen on: d1\n",
      "white has 1 king on: e1\n",
      "black has 7 pawns on: b6,e6,a7,d7,f7,g7,h7\n",
      "black has 2 knights on: f6,b8\n",
      "black has 2 bishops on: c5,b7\n",
      "black has 2 rooks on: a8,h8\n",
      "black has 1 queen on: d8\n",
      "black has 1 king on: e8\n",
      " \n",
      "White to move.\n",
      "Legal Moves: Nc3, Qe2, Nbd2, Bh4, O-O, c3, Qd2, Nfd2, h3, a3, e5, a4, Qc1, Na3, g3, g4, h4, Rf1, Kf1, c4, Bxf6, Ne5, b3, Kd2, Rg1, Bf4, Ke2, Ng1, b4, Be3, Bc1, Bd2, Be2, Bb5, Nh4, Bc4, Bf1, Ba6, Nd4, Bh6\n",
      "\n",
      "### Answer:\n",
      "Computer's Move: c4\n",
      "Your legal moves:  ['Rg8', 'Rf8', 'Kf8', 'Ke7', 'Qc8', 'Qe7', 'Qc7', 'Nc6', 'Na6', 'Bc8', 'Bc6', 'Ba6', 'Bd5', 'Bxe4', 'Ng8', 'Nh5', 'Nd5', 'Ng4', 'Nxe4', 'Bf8', 'Be7', 'Bd6', 'Bd4', 'Bb4+', 'Be3', 'Ba3', 'Bxf2+', 'O-O', 'h6', 'g6', 'd6', 'a6', 'e5', 'b5', 'h5', 'd5', 'a5']\n"
     ]
    },
    {
     "name": "stdout",
     "output_type": "stream",
     "text": [
      "Enter your move:  h6\n"
     ]
    },
    {
     "name": "stdout",
     "output_type": "stream",
     "text": [
      "### Using the current position and legal moves provided, predict a human move that an intermediate chess player would make. Always use the list of legal moves which are ordered from best to worst:\n",
      "Current Position: white has 7 pawns on: a2,b2,f2,g2,h2,c4,e4\n",
      "white has 2 knights on: b1,f3\n",
      "white has 2 bishops on: d3,g5\n",
      "white has 2 rooks on: a1,h1\n",
      "white has 1 queen on: d1\n",
      "white has 1 king on: e1\n",
      "black has 7 pawns on: b6,e6,h6,a7,d7,f7,g7\n",
      "black has 2 knights on: f6,b8\n",
      "black has 2 bishops on: c5,b7\n",
      "black has 2 rooks on: a8,h8\n",
      "black has 1 queen on: d8\n",
      "black has 1 king on: e8\n",
      " \n",
      "White to move.\n",
      "Legal Moves: Bh4, Bxf6, Be3, Bf4, Bd2, Bc1, b4, e5, h4, Qd2, Qc1, Nc3, Rf1, Qe2, Bxh6, a3, g3, Bc2, h3, O-O, Rg1, Nbd2, Nfd2, Na3, Qc2, Kf1, a4, g4, b3, Bf1, Be2, Ne5, Qb3, Nd4, Kd2, Ke2, Qa4, Ng1, Nh4\n",
      "\n",
      "### Answer:\n",
      "Computer's Move: Bh4\n",
      "Your legal moves:  ['Rg8', 'Rf8', 'Rh7', 'Kf8', 'Ke7', 'Qc8', 'Qe7', 'Qc7', 'Nc6', 'Na6', 'Bc8', 'Bc6', 'Ba6', 'Bd5', 'Bxe4', 'Ng8', 'Nh7', 'Nh5', 'Nd5', 'Ng4', 'Nxe4', 'Bf8', 'Be7', 'Bd6', 'Bd4', 'Bb4+', 'Be3', 'Ba3', 'Bxf2+', 'O-O', 'g6', 'd6', 'a6', 'h5', 'e5', 'b5', 'g5', 'd5', 'a5']\n"
     ]
    },
    {
     "name": "stdout",
     "output_type": "stream",
     "text": [
      "Enter your move:  g5\n"
     ]
    },
    {
     "name": "stdout",
     "output_type": "stream",
     "text": [
      "### Using the current position and legal moves provided, predict a human move that an intermediate chess player would make. Always use the list of legal moves which are ordered from best to worst:\n",
      "Current Position: white has 7 pawns on: a2,b2,f2,g2,h2,c4,e4\n",
      "white has 2 knights on: b1,f3\n",
      "white has 2 bishops on: d3,h4\n",
      "white has 2 rooks on: a1,h1\n",
      "white has 1 queen on: d1\n",
      "white has 1 king on: e1\n",
      "black has 7 pawns on: g5,b6,e6,h6,a7,d7,f7\n",
      "black has 2 knights on: f6,b8\n",
      "black has 2 bishops on: c5,b7\n",
      "black has 2 rooks on: a8,h8\n",
      "black has 1 queen on: d8\n",
      "black has 1 king on: e8\n",
      " \n",
      "White to move.\n",
      "Legal Moves: Bg3, Nxg5, e5, O-O, Qe2, Nc3, Qd2, a3, h3, Bxg5, Qc2, Rf1, Bc2, Qc1, Nfd2, Rg1, Nbd2, g3, a4, b4, Na3, Qb3, b3, Nd4, g4, Ne5, Be2, Qa4, Ke2, Kf1, Ng1, Bf1, Kd2\n",
      "\n",
      "### Answer:\n",
      "Computer's Move: Nxg5\n",
      "Your legal moves:  ['Rg8', 'Rf8', 'Rh7', 'Kf8', 'Ke7', 'Qc8', 'Qe7', 'Qc7', 'Nc6', 'Na6', 'Bc8', 'Bc6', 'Ba6', 'Bd5', 'Bxe4', 'Ng8', 'Nh7', 'Nh5', 'Nd5', 'Ng4', 'Nxe4', 'Bf8', 'Be7', 'Bd6', 'Bd4', 'Bb4+', 'Be3', 'Ba3', 'Bxf2+', 'O-O', 'hxg5', 'd6', 'a6', 'h5', 'e5', 'b5', 'd5', 'a5']\n"
     ]
    },
    {
     "name": "stdout",
     "output_type": "stream",
     "text": [
      "Enter your move:  hxg5\n"
     ]
    },
    {
     "name": "stdout",
     "output_type": "stream",
     "text": [
      "### Using the current position and legal moves provided, predict a human move that an intermediate chess player would make. Always use the list of legal moves which are ordered from best to worst:\n",
      "Current Position: white has 7 pawns on: a2,b2,f2,g2,h2,c4,e4\n",
      "white has 1 knight on: b1\n",
      "white has 2 bishops on: d3,h4\n",
      "white has 2 rooks on: a1,h1\n",
      "white has 1 queen on: d1\n",
      "white has 1 king on: e1\n",
      "black has 6 pawns on: g5,b6,e6,a7,d7,f7\n",
      "black has 2 knights on: f6,b8\n",
      "black has 2 bishops on: c5,b7\n",
      "black has 2 rooks on: a8,h8\n",
      "black has 1 queen on: d8\n",
      "black has 1 king on: e8\n",
      " \n",
      "White to move.\n",
      "Legal Moves: Bxg5, Bg3, e5, Nc3, f4, Nd2, Qd2, Qe2, f3, Bc2, Qc2, a3, O-O, Rf1, a4, Qc1, Na3, h3, Qa4, Qf3, g3, Qb3, Be2, b4, Bf1, b3, Kd2, Rg1, Kf1, Ke2, g4, Qh5, Qg4\n",
      "\n",
      "### Answer:\n",
      "Computer's Move: Bxg5\n",
      "Your legal moves:  ['Rg8', 'Rf8', 'Rh7', 'Rh6', 'Rh5', 'Rh4', 'Rh3', 'Rxh2', 'Kf8', 'Ke7', 'Qc8', 'Qe7', 'Qc7', 'Nc6', 'Na6', 'Bc8', 'Bc6', 'Ba6', 'Bd5', 'Bxe4', 'Ng8', 'Nh7', 'Nh5', 'Nd5', 'Ng4', 'Nxe4', 'Bf8', 'Be7', 'Bd6', 'Bd4', 'Bb4+', 'Be3', 'Ba3', 'Bxf2+', 'O-O', 'd6', 'a6', 'e5', 'b5', 'd5', 'a5']\n"
     ]
    },
    {
     "name": "stdout",
     "output_type": "stream",
     "text": [
      "Enter your move:  Rg8\n"
     ]
    },
    {
     "name": "stdout",
     "output_type": "stream",
     "text": [
      "### Using the current position and legal moves provided, predict a human move that an intermediate chess player would make. Always use the list of legal moves which are ordered from best to worst:\n",
      "Current Position: white has 7 pawns on: a2,b2,f2,g2,h2,c4,e4\n",
      "white has 1 knight on: b1\n",
      "white has 2 bishops on: d3,g5\n",
      "white has 2 rooks on: a1,h1\n",
      "white has 1 queen on: d1\n",
      "white has 1 king on: e1\n",
      "black has 5 pawns on: b6,e6,a7,d7,f7\n",
      "black has 2 knights on: f6,b8\n",
      "black has 2 bishops on: c5,b7\n",
      "black has 2 rooks on: a8,g8\n",
      "black has 1 queen on: d8\n",
      "black has 1 king on: e8\n",
      " \n",
      "White to move.\n",
      "Legal Moves: h4, Bh4, f4, Qd2, Bf4, Qc1, Be3, Bxf6, Bd2, b4, Qe2, Bc1, Nc3, f3, Qf3, Rf1, Bc2, O-O, g3, Bh6, Na3, e5, Nd2, Rg1, a3, g4, Be2, Qc2, h3, Qb3, Qh5, Qa4, b3, a4, Bf1, Kf1, Ke2, Qg4, Kd2\n",
      "\n",
      "### Answer:\n",
      "Computer's Move: h4\n",
      "Your legal moves:  ['Rh8', 'Rf8', 'Rg7', 'Rg6', 'Rxg5', 'Kf8', 'Ke7', 'Qc8', 'Qe7', 'Qc7', 'Nc6', 'Na6', 'Bc8', 'Bc6', 'Ba6', 'Bd5', 'Bxe4', 'Nh7', 'Nh5', 'Nd5', 'Ng4', 'Nxe4', 'Bf8', 'Be7', 'Bd6', 'Bd4', 'Bb4+', 'Be3', 'Ba3', 'Bxf2+', 'd6', 'a6', 'e5', 'b5', 'd5', 'a5']\n"
     ]
    },
    {
     "name": "stdout",
     "output_type": "stream",
     "text": [
      "Enter your move:  Be7\n"
     ]
    },
    {
     "name": "stdout",
     "output_type": "stream",
     "text": [
      "### Using the current position and legal moves provided, predict a human move that an intermediate chess player would make. Always use the list of legal moves which are ordered from best to worst:\n",
      "Current Position: white has 7 pawns on: a2,b2,f2,g2,c4,e4,h4\n",
      "white has 1 knight on: b1\n",
      "white has 2 bishops on: d3,g5\n",
      "white has 2 rooks on: a1,h1\n",
      "white has 1 queen on: d1\n",
      "white has 1 king on: e1\n",
      "black has 5 pawns on: b6,e6,a7,d7,f7\n",
      "black has 2 knights on: f6,b8\n",
      "black has 2 bishops on: b7,e7\n",
      "black has 2 rooks on: a8,g8\n",
      "black has 1 queen on: d8\n",
      "black has 1 king on: e8\n",
      " \n",
      "White to move.\n",
      "Legal Moves: Nc3, e5, Qe2, f4, Qf3, Rh3, Na3, Qd2, a3, Kf1, Nd2, Bf4, f3, a4, Qc2, Bc2, O-O, Rf1, Qb3, b3, Qc1, Bxf6, Bd2, Rg1, Ke2, Rh2, c5, Be2, b4, Bc1, g4, Bh6, Qa4, Be3, g3, Kd2, h5, Bf1, Qh5, Qg4\n",
      "\n",
      "### Answer:\n",
      "Computer's Move: f3\n",
      "Your legal moves:  ['Rh8', 'Rf8', 'Rg7', 'Rg6', 'Rxg5', 'Kf8', 'Qc8', 'Qc7', 'Nc6', 'Na6', 'Bf8', 'Bd6', 'Bc5', 'Bb4+', 'Ba3', 'Bc8', 'Bc6', 'Ba6', 'Bd5', 'Bxe4', 'Nh7', 'Nh5', 'Nd5', 'Ng4', 'Nxe4', 'd6', 'a6', 'e5', 'b5', 'd5', 'a5']\n"
     ]
    },
    {
     "name": "stdout",
     "output_type": "stream",
     "text": [
      "Enter your move:  Qc7\n"
     ]
    },
    {
     "name": "stdout",
     "output_type": "stream",
     "text": [
      "### Using the current position and legal moves provided, predict a human move that an intermediate chess player would make. Always use the list of legal moves which are ordered from best to worst:\n",
      "Current Position: white has 7 pawns on: a2,b2,g2,f3,c4,e4,h4\n",
      "white has 1 knight on: b1\n",
      "white has 2 bishops on: d3,g5\n",
      "white has 2 rooks on: a1,h1\n",
      "white has 1 queen on: d1\n",
      "white has 1 king on: e1\n",
      "black has 5 pawns on: b6,e6,a7,d7,f7\n",
      "black has 2 knights on: f6,b8\n",
      "black has 2 bishops on: b7,e7\n",
      "black has 2 rooks on: a8,g8\n",
      "black has 1 queen on: c7\n",
      "black has 1 king on: e8\n",
      " \n",
      "White to move.\n",
      "Legal Moves: Qd2, g4, Nc3, Qe2, Na3, Qc2, Be2, Rh3, a3, Bf1, a4, f4, c5, Bc2, Kd2, Kf1, Rf1, Qb3, Rg1, Nd2, Kf2, e5, g3, Be3, b3, Qc1, Ke2, b4, Bxf6, O-O, Bc1, Bh6, Qa4, Bf4, Rh2, h5, Bd2\n",
      "\n",
      "### Answer:\n",
      "Computer's Move: Qd2\n",
      "Your legal moves:  ['Rh8', 'Rf8', 'Rg7', 'Rg6', 'Rxg5', 'Kf8', 'Kd8', 'Nc6', 'Na6', 'Bf8', 'Bd8', 'Bd6', 'Bc5', 'Bb4', 'Ba3', 'Qd8', 'Qc8', 'Qd6', 'Qc6', 'Qe5', 'Qc5', 'Qf4', 'Qxc4', 'Qg3+', 'Qh2', 'Bc8', 'Bc6', 'Ba6', 'Bd5', 'Bxe4', 'Nh7', 'Nh5', 'Nd5', 'Ng4', 'Nxe4', 'd6', 'a6', 'e5', 'b5', 'd5', 'a5']\n"
     ]
    },
    {
     "name": "stdout",
     "output_type": "stream",
     "text": [
      "Enter your move:  Nc6\n"
     ]
    },
    {
     "name": "stdout",
     "output_type": "stream",
     "text": [
      "### Using the current position and legal moves provided, predict a human move that an intermediate chess player would make. Always use the list of legal moves which are ordered from best to worst:\n",
      "Current Position: white has 7 pawns on: a2,b2,g2,f3,c4,e4,h4\n",
      "white has 1 knight on: b1\n",
      "white has 2 bishops on: d3,g5\n",
      "white has 2 rooks on: a1,h1\n",
      "white has 1 queen on: d2\n",
      "white has 1 king on: e1\n",
      "black has 5 pawns on: b6,e6,a7,d7,f7\n",
      "black has 2 knights on: c6,f6\n",
      "black has 2 bishops on: b7,e7\n",
      "black has 2 rooks on: a8,g8\n",
      "black has 1 queen on: c7\n",
      "black has 1 king on: e8\n",
      " \n",
      "White to move.\n",
      "Legal Moves: Rh3, Nc3, Kd1, f4, Bf1, Bc2, c5, a4, a3, Bf4, Be2, Rf1, b3, Kf1, Be3, Bxf6, Rg1, Qf2, Qe2, Kf2, Qe3, e5, g4, Ke2, b4, Qf4, Bh6, Qd1, g3, Na3, O-O, Qc2, Qc1, h5, Qc3, Rh2, Qa5, Qb4\n",
      "\n",
      "### Answer:\n",
      "Computer's Move: Bf4\n",
      "Your legal moves:  ['Rh8', 'Rf8', 'Rg7', 'Rg6', 'Rg5', 'Rg4', 'Rg3', 'Rxg2', 'Kf8', 'Kd8', 'Rd8', 'Rc8', 'Rb8', 'Bf8', 'Bd8', 'Bd6', 'Bc5', 'Bb4', 'Ba3', 'Qd8', 'Qc8', 'Qb8', 'Qd6', 'Qe5', 'Qxf4', 'Bc8', 'Ba6', 'Nh7', 'Nh5', 'Nd5', 'Ng4', 'Nxe4', 'Nd8', 'Nb8', 'Ne5', 'Na5', 'Nd4', 'Nb4', 'O-O-O', 'd6', 'a6', 'e5', 'b5', 'd5', 'a5']\n"
     ]
    },
    {
     "name": "stdout",
     "output_type": "stream",
     "text": [
      "Enter your move:  e5\n"
     ]
    },
    {
     "name": "stdout",
     "output_type": "stream",
     "text": [
      "### Using the current position and legal moves provided, predict a human move that an intermediate chess player would make. Always use the list of legal moves which are ordered from best to worst:\n",
      "Current Position: white has 7 pawns on: a2,b2,g2,f3,c4,e4,h4\n",
      "white has 1 knight on: b1\n",
      "white has 2 bishops on: d3,f4\n",
      "white has 2 rooks on: a1,h1\n",
      "white has 1 queen on: d2\n",
      "white has 1 king on: e1\n",
      "black has 5 pawns on: e5,b6,a7,d7,f7\n",
      "black has 2 knights on: c6,f6\n",
      "black has 2 bishops on: b7,e7\n",
      "black has 2 rooks on: a8,g8\n",
      "black has 1 queen on: c7\n",
      "black has 1 king on: e8\n",
      " \n",
      "White to move.\n",
      "Legal Moves: Be3, Bg5, Bh2, Bh6, Nc3, h5, Bg3, g4, a3, Be2, Bc2, Na3, Kd1, Bxe5, Rh3, Qe2, c5, Qc2, g3, a4, Bf1, Rf1, Qd1, Rh2, Kf1, Qf2, Qc1, b4, Qe3, Ke2, Rg1, b3, O-O, Qc3, Kf2, Qa5, Qb4\n",
      "\n",
      "### Answer:\n",
      "Computer's Move: Be3\n",
      "Your legal moves:  ['Rh8', 'Rf8', 'Rg7', 'Rg6', 'Rg5', 'Rg4', 'Rg3', 'Rxg2', 'Kf8', 'Kd8', 'Rd8', 'Rc8', 'Rb8', 'Bf8', 'Bd8', 'Bd6', 'Bc5', 'Bb4', 'Ba3', 'Qd8', 'Qc8', 'Qb8', 'Qd6', 'Bc8', 'Ba6', 'Nh7', 'Nh5', 'Nd5', 'Ng4', 'Nxe4', 'Nd8', 'Nb8', 'Na5', 'Nd4', 'Nb4', 'O-O-O', 'd6', 'a6', 'b5', 'd5', 'a5']\n"
     ]
    },
    {
     "name": "stdout",
     "output_type": "stream",
     "text": [
      "Enter your move:  Nb4\n"
     ]
    },
    {
     "name": "stdout",
     "output_type": "stream",
     "text": [
      "### Using the current position and legal moves provided, predict a human move that an intermediate chess player would make. Always use the list of legal moves which are ordered from best to worst:\n",
      "Current Position: white has 7 pawns on: a2,b2,g2,f3,c4,e4,h4\n",
      "white has 1 knight on: b1\n",
      "white has 2 bishops on: d3,e3\n",
      "white has 2 rooks on: a1,h1\n",
      "white has 1 queen on: d2\n",
      "white has 1 king on: e1\n",
      "black has 5 pawns on: e5,b6,a7,d7,f7\n",
      "black has 2 knights on: b4,f6\n",
      "black has 2 bishops on: b7,e7\n",
      "black has 2 rooks on: a8,g8\n",
      "black has 1 queen on: c7\n",
      "black has 1 king on: e8\n",
      " \n",
      "White to move.\n",
      "Legal Moves: g4, Be2, Bf1, Nc3, h5, Bg5, b3, Na3, Rg1, a4, Rh3, Rh2, Kf2, O-O, Bf2, Kd1, a3, Bc2, c5, g3, Rf1, Qd1, Qc3, Bh6, Kf1, Qe2, Bg1, Bf4, Bxb6, Bc5, Ke2, f4, Qxb4, Bd4, Qc2, Qf2, Qc1\n",
      "\n",
      "### Answer:\n",
      "Computer's Move: Nc3\n",
      "Your legal moves:  ['Rh8', 'Rf8', 'Rg7', 'Rg6', 'Rg5', 'Rg4', 'Rg3', 'Rxg2', 'Kf8', 'Kd8', 'Rd8', 'Rc8', 'Rb8', 'Bf8', 'Bd8', 'Bd6', 'Bc5', 'Qd8', 'Qc8', 'Qb8', 'Qd6', 'Qc6', 'Qc5', 'Qxc4', 'Bc8', 'Bc6', 'Ba6', 'Bd5', 'Bxe4', 'Nh7', 'Nh5', 'Nfd5', 'Ng4', 'Nxe4', 'Nc6', 'Na6', 'Nbd5', 'Nxd3+', 'Nc2+', 'Nxa2', 'O-O-O', 'd6', 'a6', 'b5', 'd5', 'a5']\n"
     ]
    },
    {
     "name": "stdout",
     "output_type": "stream",
     "text": [
      "Enter your move:  Nxd3\n"
     ]
    },
    {
     "name": "stdout",
     "output_type": "stream",
     "text": [
      "### Using the current position and legal moves provided, predict a human move that an intermediate chess player would make. Always use the list of legal moves which are ordered from best to worst:\n",
      "Current Position: white has 7 pawns on: a2,b2,g2,f3,c4,e4,h4\n",
      "white has 1 knight on: c3\n",
      "white has 1 bishop on: e3\n",
      "white has 2 rooks on: a1,h1\n",
      "white has 1 queen on: d2\n",
      "white has 1 king on: e1\n",
      "black has 5 pawns on: e5,b6,a7,d7,f7\n",
      "black has 2 knights on: d3,f6\n",
      "black has 2 bishops on: b7,e7\n",
      "black has 2 rooks on: a8,g8\n",
      "black has 1 queen on: c7\n",
      "black has 1 king on: e8\n",
      " \n",
      "White to move.\n",
      "Legal Moves: Qxd3, Kf1, Kd1, Ke2\n",
      "\n",
      "### Answer:\n",
      "Computer's Move: Kf1\n",
      "Your legal moves:  ['Rh8', 'Rf8', 'Rg7', 'Rg6', 'Rg5', 'Rg4', 'Rg3', 'Rxg2', 'Kf8', 'Kd8', 'Rd8', 'Rc8', 'Rb8', 'Bf8', 'Bd8', 'Bd6', 'Bc5', 'Bb4', 'Ba3', 'Qd8', 'Qc8', 'Qb8', 'Qd6', 'Qc6', 'Qc5', 'Qxc4', 'Bc8', 'Bc6', 'Ba6', 'Bd5', 'Bxe4', 'Nh7', 'Nh5', 'Nd5', 'Ng4', 'Nxe4', 'Nc5', 'Nf4', 'Nb4', 'Nf2', 'Nxb2', 'Ne1', 'Nc1', 'O-O-O', 'd6', 'a6', 'b5', 'd5', 'a5']\n"
     ]
    },
    {
     "name": "stdout",
     "output_type": "stream",
     "text": [
      "Enter your move:  Nf4\n"
     ]
    },
    {
     "name": "stdout",
     "output_type": "stream",
     "text": [
      "### Using the current position and legal moves provided, predict a human move that an intermediate chess player would make. Always use the list of legal moves which are ordered from best to worst:\n",
      "Current Position: white has 7 pawns on: a2,b2,g2,f3,c4,e4,h4\n",
      "white has 1 knight on: c3\n",
      "white has 1 bishop on: e3\n",
      "white has 2 rooks on: a1,h1\n",
      "white has 1 queen on: d2\n",
      "white has 1 king on: f1\n",
      "black has 5 pawns on: e5,b6,a7,d7,f7\n",
      "black has 2 knights on: f4,f6\n",
      "black has 2 bishops on: b7,e7\n",
      "black has 2 rooks on: a8,g8\n",
      "black has 1 queen on: c7\n",
      "black has 1 king on: e8\n",
      " \n",
      "White to move.\n",
      "Legal Moves: b3, Rc1, Bxf4, g4, Kg1, Rh2, Re1, Rd1, Ne2, a3, h5, a4, c5, Qf2, Ke1, g3, Rg1, Rb1, Qc2, b4, Qd1, Rh3, Bxb6, Nd5, Nd1, Kf2, Nb5, Bf2, Qe1, Bd4, Na4, Nb1, Bg1, Bc5, Qxd7+, Qe2, Qd3, Qc1, Qd4, Qd6, Qd5\n",
      "\n",
      "### Answer:\n",
      "Computer's Move: Bxf4\n",
      "Your legal moves:  ['Rh8', 'Rf8', 'Rg7', 'Rg6', 'Rg5', 'Rg4', 'Rg3', 'Rxg2', 'Kf8', 'Kd8', 'Rd8', 'Rc8', 'Rb8', 'Bf8', 'Bd8', 'Bd6', 'Bc5', 'Bb4', 'Ba3', 'Qd8', 'Qc8', 'Qb8', 'Qd6', 'Qc6', 'Qc5', 'Qxc4+', 'Bc8', 'Bc6', 'Ba6', 'Bd5', 'Bxe4', 'Nh7', 'Nh5', 'Nd5', 'Ng4', 'Nxe4', 'O-O-O', 'exf4', 'd6', 'a6', 'b5', 'd5', 'a5']\n"
     ]
    },
    {
     "name": "stdout",
     "output_type": "stream",
     "text": [
      "Enter your move:  exf4\n"
     ]
    },
    {
     "name": "stdout",
     "output_type": "stream",
     "text": [
      "### Using the current position and legal moves provided, predict a human move that an intermediate chess player would make. Always use the list of legal moves which are ordered from best to worst:\n",
      "Current Position: white has 7 pawns on: a2,b2,g2,f3,c4,e4,h4\n",
      "white has 1 knight on: c3\n",
      "white has no bishop\n",
      "white has 2 rooks on: a1,h1\n",
      "white has 1 queen on: d2\n",
      "white has 1 king on: f1\n",
      "black has 5 pawns on: f4,b6,a7,d7,f7\n",
      "black has 1 knight on: f6\n",
      "black has 2 bishops on: b7,e7\n",
      "black has 2 rooks on: a8,g8\n",
      "black has 1 queen on: c7\n",
      "black has 1 king on: e8\n",
      " \n",
      "White to move.\n",
      "Legal Moves: Ke1, h5, Qe2, Qd4, Rd1, Ne2, a3, Qd3, Rc1, Kg1, a4, Kf2, b3, Nb5, Rh3, Rb1, c5, Re1, Rg1, Rh2, g4, Nd5, e5, Qc1, Qc2, b4, Nd1, Qe1, g3, Qf2, Qd1, Nb1, Na4, Ke2, Qxd7+, Qd6, Qe3, Qd5, Qxf4\n",
      "\n",
      "### Answer:\n",
      "Computer's Move: Ke1\n",
      "Your legal moves:  ['Rh8', 'Rf8', 'Rg7', 'Rg6', 'Rg5', 'Rg4', 'Rg3', 'Rxg2', 'Kf8', 'Kd8', 'Rd8', 'Rc8', 'Rb8', 'Bf8', 'Bd8', 'Bd6', 'Bc5', 'Bb4', 'Ba3', 'Qd8', 'Qc8', 'Qb8', 'Qd6', 'Qc6', 'Qe5', 'Qc5', 'Qxc4', 'Bc8', 'Bc6', 'Ba6', 'Bd5', 'Bxe4', 'Nh7', 'Nh5', 'Nd5', 'Ng4', 'Nxe4', 'O-O-O', 'd6', 'a6', 'b5', 'd5', 'a5']\n"
     ]
    },
    {
     "name": "stdout",
     "output_type": "stream",
     "text": [
      "Enter your move:  Qxc4\n"
     ]
    },
    {
     "name": "stdout",
     "output_type": "stream",
     "text": [
      "### Using the current position and legal moves provided, predict a human move that an intermediate chess player would make. Always use the list of legal moves which are ordered from best to worst:\n",
      "Current Position: white has 6 pawns on: a2,b2,g2,f3,e4,h4\n",
      "white has 1 knight on: c3\n",
      "white has no bishop\n",
      "white has 2 rooks on: a1,h1\n",
      "white has 1 queen on: d2\n",
      "white has 1 king on: e1\n",
      "black has 5 pawns on: f4,b6,a7,d7,f7\n",
      "black has 1 knight on: f6\n",
      "black has 2 bishops on: b7,e7\n",
      "black has 2 rooks on: a8,g8\n",
      "black has 1 queen on: c4\n",
      "black has 1 king on: e8\n",
      " \n",
      "White to move.\n",
      "Legal Moves: h5, Rc1, Kd1, Rd1, Rb1, a3, Rh2, Rg1, a4, b3, Rh3, e5, Qe2, Rf1, Qf2, Kf2, Qc2, Qd1, Qc1, Qxf4, g3, g4, Ne2, Nd5, Nd1, Nb1, Na4, Nb5, b4, Qe3, Qxd7+, Qd6, Qd5, Qd4, Qd3\n",
      "\n",
      "### Answer:\n",
      "Computer's Move: e5\n",
      "Your legal moves:  ['Rh8', 'Rf8', 'Rg7', 'Rg6', 'Rg5', 'Rg4', 'Rg3', 'Rxg2', 'Kf8', 'Kd8', 'Rd8', 'Rc8', 'Rb8', 'Bf8', 'Bd8', 'Bd6', 'Bc5', 'Bb4', 'Ba3', 'Bc8', 'Bc6', 'Ba6', 'Bd5', 'Be4', 'Bxf3', 'Nh7', 'Nh5', 'Nd5', 'Ng4', 'Ne4', 'Qc8', 'Qc7', 'Qe6', 'Qc6', 'Qa6', 'Qd5', 'Qc5', 'Qb5', 'Qe4+', 'Qd4', 'Qb4', 'Qa4', 'Qd3', 'Qxc3', 'Qb3', 'Qe2+', 'Qxa2', 'Qf1+', 'O-O-O', 'd6', 'a6', 'b5', 'd5', 'a5']\n"
     ]
    },
    {
     "name": "stdout",
     "output_type": "stream",
     "text": [
      "Enter your move:  Nd5\n"
     ]
    },
    {
     "name": "stdout",
     "output_type": "stream",
     "text": [
      "### Using the current position and legal moves provided, predict a human move that an intermediate chess player would make. Always use the list of legal moves which are ordered from best to worst:\n",
      "Current Position: white has 6 pawns on: a2,b2,g2,f3,h4,e5\n",
      "white has 1 knight on: c3\n",
      "white has no bishop\n",
      "white has 2 rooks on: a1,h1\n",
      "white has 1 queen on: d2\n",
      "white has 1 king on: e1\n",
      "black has 5 pawns on: f4,b6,a7,d7,f7\n",
      "black has 1 knight on: d5\n",
      "black has 2 bishops on: b7,e7\n",
      "black has 2 rooks on: a8,g8\n",
      "black has 1 queen on: c4\n",
      "black has 1 king on: e8\n",
      " \n",
      "White to move.\n",
      "Legal Moves: Nxd5, Rd1, Rc1, Ne4, Qe2, a4, e6, Rh2, Ne2, Qc2, b3, Rg1, h5, Kd1, a3, g3, g4, Qf2, Rh3, Rb1, Kf2, Nb5, Qxd5, Qd1, Nd1, Na4, b4, Qc1, Rf1, Qxf4, Nb1, Qd4, Qe3, Qd3\n",
      "\n",
      "### Answer:\n",
      "Computer's Move: e6\n",
      "Your legal moves:  ['Rh8', 'Rf8', 'Rg7', 'Rg6', 'Rg5', 'Rg4', 'Rg3', 'Rxg2', 'Kf8', 'Kd8', 'Rd8', 'Rc8', 'Rb8', 'Bf8', 'Bd8', 'Bf6', 'Bd6', 'Bg5', 'Bc5', 'Bxh4+', 'Bb4', 'Ba3', 'Bc8', 'Bc6', 'Ba6', 'Nc7', 'Nf6', 'Nb4', 'Ne3', 'Nxc3', 'Qc8', 'Qc7', 'Qc6', 'Qa6', 'Qc5', 'Qb5', 'Qe4+', 'Qd4', 'Qb4', 'Qa4', 'Qd3', 'Qxc3', 'Qb3', 'Qe2+', 'Qxa2', 'Qf1+', 'O-O-O', 'fxe6', 'dxe6', 'f6', 'd6', 'a6', 'b5', 'f5', 'a5']\n"
     ]
    },
    {
     "name": "stdout",
     "output_type": "stream",
     "text": [
      "Enter your move:  dxe6\n"
     ]
    },
    {
     "name": "stdout",
     "output_type": "stream",
     "text": [
      "### Using the current position and legal moves provided, predict a human move that an intermediate chess player would make. Always use the list of legal moves which are ordered from best to worst:\n",
      "Current Position: white has 5 pawns on: a2,b2,g2,f3,h4\n",
      "white has 1 knight on: c3\n",
      "white has no bishop\n",
      "white has 2 rooks on: a1,h1\n",
      "white has 1 queen on: d2\n",
      "white has 1 king on: e1\n",
      "black has 5 pawns on: f4,b6,e6,a7,f7\n",
      "black has 1 knight on: d5\n",
      "black has 2 bishops on: b7,e7\n",
      "black has 2 rooks on: a8,g8\n",
      "black has 1 queen on: c4\n",
      "black has 1 king on: e8\n",
      " \n",
      "White to move.\n",
      "Legal Moves: Nxd5, Rd1, Rc1, Qe2, Ne4, a3, Kd1, b3, Rh2, Kf2, Qf2, Rg1, Qxd5, h5, Nd1, a4, g3, g4, Qc2, Nb5, Rb1, Qd1, Rh3, Ne2, Na4, b4, Qxf4, Rf1, Nb1, Qd4, Qe3, Qd3, Qc1\n",
      "\n",
      "### Answer:\n",
      "Computer's Move: Nxd5\n",
      "Your legal moves:  ['Rh8', 'Rf8', 'Rg7', 'Rg6', 'Rg5', 'Rg4', 'Rg3', 'Rxg2', 'Kf8', 'Kd8', 'Kd7', 'Rd8', 'Rc8', 'Rb8', 'Bf8', 'Bd8', 'Bf6', 'Bd6', 'Bg5', 'Bc5', 'Bxh4+', 'Bb4', 'Ba3', 'Bc8', 'Bc6', 'Ba6', 'Bxd5', 'Qc8', 'Qc7', 'Qc6', 'Qa6', 'Qxd5', 'Qc5', 'Qb5', 'Qe4+', 'Qd4', 'Qb4', 'Qa4', 'Qd3', 'Qc3', 'Qb3', 'Qe2+', 'Qc2', 'Qxa2', 'Qf1+', 'Qc1+', 'O-O-O', 'exd5', 'f6', 'a6', 'e5', 'b5', 'f5', 'a5']\n"
     ]
    },
    {
     "name": "stdout",
     "output_type": "stream",
     "text": [
      "Enter your move:  Qxd5\n"
     ]
    },
    {
     "name": "stdout",
     "output_type": "stream",
     "text": [
      "### Using the current position and legal moves provided, predict a human move that an intermediate chess player would make. Always use the list of legal moves which are ordered from best to worst:\n",
      "Current Position: white has 5 pawns on: a2,b2,g2,f3,h4\n",
      "white has no knight\n",
      "white has no bishop\n",
      "white has 2 rooks on: a1,h1\n",
      "white has 1 queen on: d2\n",
      "white has 1 king on: e1\n",
      "black has 5 pawns on: f4,b6,e6,a7,f7\n",
      "black has no knight\n",
      "black has 2 bishops on: b7,e7\n",
      "black has 2 rooks on: a8,g8\n",
      "black has 1 queen on: d5\n",
      "black has 1 king on: e8\n",
      " \n",
      "White to move.\n",
      "Legal Moves: Qxd5, Rh2, Qc2, Rb1, Rd1, Qxf4, Qe2, Qc3, Rc1, Rg1, a3, Qf2, Rf1, g4, Qd1, a4, Rh3, g3, Kd1, Qa5, Qd4, Qb4, Qe3, Qd3, Qc1, Kf2, Ke2, Kf1, h5, b3, b4\n",
      "\n",
      "### Answer:\n",
      "Computer's Move: Qxf4\n",
      "Your legal moves:  ['Rh8', 'Rf8', 'Rg7', 'Rg6', 'Rg5', 'Rg4', 'Rg3', 'Rxg2', 'Kf8', 'Kd8', 'Kd7', 'Rd8', 'Rc8', 'Rb8', 'Bf8', 'Bd8', 'Bf6', 'Bd6', 'Bg5', 'Bc5', 'Bxh4+', 'Bb4+', 'Ba3', 'Bc8', 'Bc6', 'Ba6', 'Qd8', 'Qd7', 'Qd6', 'Qc6', 'Qh5', 'Qg5', 'Qf5', 'Qe5+', 'Qc5', 'Qb5', 'Qa5+', 'Qe4+', 'Qd4', 'Qc4', 'Qxf3', 'Qd3', 'Qb3', 'Qd2+', 'Qxa2', 'Qd1+', 'O-O-O', 'f6', 'a6', 'e5', 'b5', 'f5', 'a5']\n"
     ]
    },
    {
     "name": "stdout",
     "output_type": "stream",
     "text": [
      "Enter your move:  Qa5\n"
     ]
    },
    {
     "name": "stdout",
     "output_type": "stream",
     "text": [
      "### Using the current position and legal moves provided, predict a human move that an intermediate chess player would make. Always use the list of legal moves which are ordered from best to worst:\n",
      "Current Position: white has 5 pawns on: a2,b2,g2,f3,h4\n",
      "white has no knight\n",
      "white has no bishop\n",
      "white has 2 rooks on: a1,h1\n",
      "white has 1 queen on: f4\n",
      "white has 1 king on: e1\n",
      "black has 4 pawns on: b6,e6,a7,f7\n",
      "black has no knight\n",
      "black has 2 bishops on: b7,e7\n",
      "black has 2 rooks on: a8,g8\n",
      "black has 1 queen on: a5\n",
      "black has 1 king on: e8\n",
      " \n",
      "White to move.\n",
      "Legal Moves: Qd2, Kf2, Ke2, Kf1, Kd1, Qb4, b4\n",
      "\n",
      "### Answer:\n",
      "Computer's Move: Ke2\n",
      "Your legal moves:  ['Rh8', 'Rf8', 'Rg7', 'Rg6', 'Rg5', 'Rg4', 'Rg3', 'Rxg2+', 'Kf8', 'Kd8', 'Kd7', 'Rd8', 'Rc8', 'Rb8', 'Bf8', 'Bd8', 'Bf6', 'Bd6', 'Bg5', 'Bc5', 'Bxh4', 'Bb4', 'Ba3', 'Bc8', 'Bc6', 'Ba6+', 'Bd5', 'Be4', 'Bxf3+', 'Qa6+', 'Qh5', 'Qg5', 'Qf5', 'Qe5+', 'Qd5', 'Qc5', 'Qb5+', 'Qb4', 'Qa4', 'Qc3', 'Qa3', 'Qd2+', 'Qxa2', 'Qe1+', 'O-O-O', 'f6', 'a6', 'e5', 'b5', 'f5']\n"
     ]
    },
    {
     "name": "stdout",
     "output_type": "stream",
     "text": [
      "Enter your move:  Ba6\n"
     ]
    },
    {
     "name": "stdout",
     "output_type": "stream",
     "text": [
      "### Using the current position and legal moves provided, predict a human move that an intermediate chess player would make. Always use the list of legal moves which are ordered from best to worst:\n",
      "Current Position: white has 5 pawns on: a2,b2,g2,f3,h4\n",
      "white has no knight\n",
      "white has no bishop\n",
      "white has 2 rooks on: a1,h1\n",
      "white has 1 queen on: f4\n",
      "white has 1 king on: e2\n",
      "black has 4 pawns on: b6,e6,a7,f7\n",
      "black has no knight\n",
      "black has 2 bishops on: a6,e7\n",
      "black has 2 rooks on: a8,g8\n",
      "black has 1 queen on: a5\n",
      "black has 1 king on: e8\n",
      " \n",
      "White to move.\n",
      "Legal Moves: Ke3, Kf2, Kd1, Qc4\n",
      "\n",
      "### Answer:\n",
      "Computer's Move: Ke3\n",
      "Your legal moves:  ['Rh8', 'Rf8', 'Rg7', 'Rg6', 'Rg5', 'Rg4', 'Rg3', 'Rxg2', 'Kf8', 'Kd8', 'Kd7', 'Rd8', 'Rc8', 'Rb8', 'Bf8', 'Bd8', 'Bf6', 'Bd6', 'Bg5', 'Bc5+', 'Bxh4', 'Bb4', 'Ba3', 'Bc8', 'Bb7', 'Bb5', 'Bc4', 'Bd3', 'Be2', 'Bf1', 'Qh5', 'Qg5', 'Qf5', 'Qe5+', 'Qd5', 'Qc5+', 'Qb5', 'Qb4', 'Qa4', 'Qc3+', 'Qa3+', 'Qd2+', 'Qxa2', 'Qe1+', 'O-O-O', 'f6', 'e5', 'b5', 'f5']\n"
     ]
    },
    {
     "name": "stdout",
     "output_type": "stream",
     "text": [
      "Enter your move:  Bc5\n"
     ]
    },
    {
     "name": "stdout",
     "output_type": "stream",
     "text": [
      "### Using the current position and legal moves provided, predict a human move that an intermediate chess player would make. Always use the list of legal moves which are ordered from best to worst:\n",
      "Current Position: white has 5 pawns on: a2,b2,g2,f3,h4\n",
      "white has no knight\n",
      "white has no bishop\n",
      "white has 2 rooks on: a1,h1\n",
      "white has 1 queen on: f4\n",
      "white has 1 king on: e3\n",
      "black has 4 pawns on: b6,e6,a7,f7\n",
      "black has no knight\n",
      "black has 2 bishops on: c5,a6\n",
      "black has 2 rooks on: a8,g8\n",
      "black has 1 queen on: a5\n",
      "black has 1 king on: e8\n",
      " \n",
      "White to move.\n",
      "Legal Moves: Ke4, Qd4\n",
      "\n",
      "### Answer:\n",
      "Computer's Move: Ke4\n",
      "Your legal moves:  ['Rh8', 'Rf8', 'Rg7', 'Rg6', 'Rg5', 'Rg4', 'Rg3', 'Rxg2', 'Kf8', 'Kd8', 'Ke7', 'Kd7', 'Rd8', 'Rc8', 'Rb8', 'Bc8', 'Bb7+', 'Bb5', 'Bc4', 'Bd3+', 'Be2', 'Bf1', 'Bf8', 'Be7', 'Bd6', 'Bd4', 'Bb4', 'Be3', 'Ba3', 'Bf2', 'Bg1', 'Qb5', 'Qb4+', 'Qa4+', 'Qc3', 'Qa3', 'Qd2', 'Qxa2', 'Qe1+', 'O-O-O', 'f6', 'e5', 'b5', 'f5+']\n"
     ]
    },
    {
     "name": "stdout",
     "output_type": "stream",
     "text": [
      "Enter your move:  Qb4+\n"
     ]
    },
    {
     "name": "stdout",
     "output_type": "stream",
     "text": [
      "### Using the current position and legal moves provided, predict a human move that an intermediate chess player would make. Always use the list of legal moves which are ordered from best to worst:\n",
      "Current Position: white has 5 pawns on: a2,b2,g2,f3,h4\n",
      "white has no knight\n",
      "white has no bishop\n",
      "white has 2 rooks on: a1,h1\n",
      "white has 1 queen on: f4\n",
      "white has 1 king on: e4\n",
      "black has 4 pawns on: b6,e6,a7,f7\n",
      "black has no knight\n",
      "black has 2 bishops on: c5,a6\n",
      "black has 2 rooks on: a8,g8\n",
      "black has 1 queen on: b4\n",
      "black has 1 king on: e8\n",
      " \n",
      "White to move.\n",
      "Legal Moves: Ke5\n",
      "\n",
      "### Answer:\n",
      "Computer's Move: Ke5\n",
      "Your legal moves:  ['Rh8', 'Rf8', 'Rg7', 'Rg6', 'Rg5+', 'Rg4', 'Rg3', 'Rxg2', 'Kf8', 'Kd8', 'Ke7', 'Kd7', 'Rd8', 'Rc8', 'Rb8', 'Bc8', 'Bb7', 'Bb5', 'Bc4', 'Bd3', 'Be2', 'Bf1', 'Bf8', 'Be7', 'Bd6+', 'Bd4+', 'Be3', 'Bf2', 'Bg1', 'Qb5', 'Qa5', 'Qxf4+', 'Qe4+', 'Qd4+', 'Qc4', 'Qa4', 'Qc3+', 'Qb3', 'Qa3', 'Qd2', 'Qxb2+', 'Qe1+', 'O-O-O', 'f6+', 'b5', 'f5']\n"
     ]
    },
    {
     "name": "stdout",
     "output_type": "stream",
     "text": [
      "Enter your move:  Bd6+\n"
     ]
    },
    {
     "name": "stdout",
     "output_type": "stream",
     "text": [
      "### Using the current position and legal moves provided, predict a human move that an intermediate chess player would make. Always use the list of legal moves which are ordered from best to worst:\n",
      "Current Position: white has 5 pawns on: a2,b2,g2,f3,h4\n",
      "white has no knight\n",
      "white has no bishop\n",
      "white has 2 rooks on: a1,h1\n",
      "white has 1 queen on: f4\n",
      "white has 1 king on: e5\n",
      "black has 4 pawns on: b6,e6,a7,f7\n",
      "black has no knight\n",
      "black has 2 bishops on: a6,d6\n",
      "black has 2 rooks on: a8,g8\n",
      "black has 1 queen on: b4\n",
      "black has 1 king on: e8\n",
      " \n",
      "White to move.\n",
      "Legal Moves: Kf6\n",
      "\n",
      "### Answer:\n",
      "Computer's Move: Kf6\n",
      "Your legal moves:  ['Rh8', 'Rf8', 'Rg7', 'Rg6#', 'Rg5', 'Rg4', 'Rg3', 'Rxg2', 'Kf8', 'Kd8', 'Kd7', 'Rd8', 'Rc8', 'Rb8', 'Bf8', 'Bb8', 'Be7+', 'Bc7', 'Be5+', 'Bc5', 'Bxf4', 'Bc8', 'Bb7', 'Bb5', 'Bc4', 'Bd3', 'Be2', 'Bf1', 'Qc5', 'Qb5', 'Qa5', 'Qxf4#', 'Qe4', 'Qd4+', 'Qc4', 'Qa4', 'Qc3+', 'Qb3', 'Qa3', 'Qd2', 'Qxb2+', 'Qe1', 'O-O-O', 'e5', 'b5']\n"
     ]
    },
    {
     "name": "stdout",
     "output_type": "stream",
     "text": [
      "Enter your move:  Qxf4\n"
     ]
    },
    {
     "name": "stdout",
     "output_type": "stream",
     "text": [
      "### Using the current position and legal moves provided, predict a human move that an intermediate chess player would make. Always use the list of legal moves which are ordered from best to worst:\n",
      "Current Position: white has 5 pawns on: a2,b2,g2,f3,h4\n",
      "white has no knight\n",
      "white has no bishop\n",
      "white has 2 rooks on: a1,h1\n",
      "white has no queen\n",
      "white has 1 king on: f6\n",
      "black has 4 pawns on: b6,e6,a7,f7\n",
      "black has no knight\n",
      "black has 2 bishops on: a6,d6\n",
      "black has 2 rooks on: a8,g8\n",
      "black has 1 queen on: f4\n",
      "black has 1 king on: e8\n",
      " \n",
      "White to move.\n",
      "Legal Moves: \n",
      "\n",
      "### Answer:\n",
      "The model made an illegal move and is trying again...\n",
      "The model made an illegal move and is trying again...\n",
      "The model made an illegal move and is trying again...\n",
      "The model made an illegal move and is trying again...\n",
      "The model made an illegal move and is trying again...\n",
      "Computer's Move: Game Over.\n",
      "Your legal moves:  []\n"
     ]
    }
   ],
   "source": [
    "###### import chess\n",
    "def main():\n",
    "    moves = ['e4']\n",
    "    while True:\n",
    "        print(\"Your legal moves: \", get_legal_moves(moves))\n",
    "        player_move = input(\"Enter your move: \")\n",
    "        moves.append(player_move)\n",
    "        turn = whose_turn(moves)\n",
    "        legal_moves = evaluate_moves(moves, .05)\n",
    "        #print(\"Here: \",legal_moves)\n",
    "        position = str(convert_moves_to_board_state(moves))\n",
    "\n",
    "        input_prompt = f\"\"\"### Using the current position and legal moves provided, predict a human move that an intermediate chess player would make. Always use the list of legal moves which are ordered from best to worst:\n",
    "Current Position: {fen_to_piece_description(position)} \n",
    "{turn}\n",
    "Legal Moves: {legal_moves}\n",
    "\n",
    "### Answer:\"\"\"\n",
    "        print(input_prompt)\n",
    "        for i in range(5):\n",
    "            computer_move = get_move(input_prompt, .725)\n",
    "            move_checker = get_legal_moves(moves)\n",
    "            if computer_move in move_checker:\n",
    "                break\n",
    "            else:\n",
    "                print(\"The model made an illegal move and is trying again...\")\n",
    "        print(\"Computer's Move:\", computer_move)\n",
    "        moves.append(computer_move)\n",
    "main() "
   ]
  },
  {
   "cell_type": "code",
   "execution_count": null,
   "metadata": {},
   "outputs": [],
   "source": [
    "#fix the parser so you can properly test the new model, you had the wrong prompt"
   ]
  },
  {
   "cell_type": "code",
   "execution_count": null,
   "metadata": {},
   "outputs": [],
   "source": []
  }
 ],
 "metadata": {
  "accelerator": "GPU",
  "colab": {
   "gpuType": "T4",
   "provenance": []
  },
  "gpuClass": "standard",
  "kernelspec": {
   "display_name": "Python 3 (ipykernel)",
   "language": "python",
   "name": "python3"
  },
  "language_info": {
   "codemirror_mode": {
    "name": "ipython",
    "version": 3
   },
   "file_extension": ".py",
   "mimetype": "text/x-python",
   "name": "python",
   "nbconvert_exporter": "python",
   "pygments_lexer": "ipython3",
   "version": "3.11.4"
  }
 },
 "nbformat": 4,
 "nbformat_minor": 4
}
